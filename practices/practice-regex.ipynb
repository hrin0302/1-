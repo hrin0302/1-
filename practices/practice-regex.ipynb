{
  "cells": [
    {
      "cell_type": "markdown",
      "metadata": {
        "id": "KTO139OEhzzX"
      },
      "source": [
        "# (연습) 정규표현식"
      ]
    },
    {
      "cell_type": "markdown",
      "metadata": {
        "id": "MgBCG_zE0A9f"
      },
      "source": [
        "**주의 사항**\n",
        "\n",
        "* 기존에 작성된 코드 셀과 텍스트 셀은 수정하지 않는다.\n",
        "* 필요한 경우 코드 셀 또는 텍스트 셀을 추가해서 사용한다."
      ]
    },
    {
      "cell_type": "code",
      "execution_count": 1,
      "metadata": {
        "id": "sZPZY-1jhzzb"
      },
      "outputs": [],
      "source": [
        "import re"
      ]
    },
    {
      "cell_type": "markdown",
      "metadata": {
        "id": "X703RFsKhzzc"
      },
      "source": [
        "**문제 1**"
      ]
    },
    {
      "cell_type": "markdown",
      "metadata": {
        "id": "b7VqtcgChzzd"
      },
      "source": [
        "임의의 숫자 기호로 구성된 문자열도 정규표현식이다.\n",
        "아래 세 개의 문자열에 공통으로 포함됨 부분문자열 `123`과 매칭되는 정규표현식으로 지정하라."
      ]
    },
    {
      "cell_type": "markdown",
      "metadata": {
        "id": "fY7hNkqmhzzd"
      },
      "source": [
        "| 매칭 | 문자열 |\n",
        "| :---: | :--- |\n",
        "| 성사 | `abc123xyz` |\n",
        "| 성사 | `deine \"123\"` |\n",
        "| 성사 | `var g = 123;` |"
      ]
    },
    {
      "cell_type": "code",
      "execution_count": null,
      "metadata": {
        "id": "tkB6ga27hzze"
      },
      "outputs": [],
      "source": [
        "# 코드를 작성한다.\n",
        "# 필요하면 코드셀 또는 텍스트셀을 추가할 수 있습니다.\n"
      ]
    },
    {
      "cell_type": "markdown",
      "metadata": {
        "id": "fozlhJk5hzze"
      },
      "source": [
        "**문제 2**"
      ]
    },
    {
      "cell_type": "markdown",
      "metadata": {
        "id": "Vm-PxVdbhzzf"
      },
      "source": [
        "아래 표에 포함된 각각의 문자열에 대해 성사로 표시된 문자열 전체를 매칭 시키는 하나의 정규표현식을\n",
        "선언한 다음에 이를 확인하라.\n",
        "단, 미성사로 표시된 문자열에 대해서는 매칭이 없어야 한다.\n",
        "\n",
        "힌트: 특정 문자만 포함하거나 아니면 특정 문자는 제외시킬 수 있다."
      ]
    },
    {
      "cell_type": "markdown",
      "metadata": {
        "id": "cwoNfIYQhzzf"
      },
      "source": [
        "| 매칭 | 문자열 |\n",
        "| :---: | :--- |\n",
        "| 성사 | `can` |\n",
        "| 성사 | `man` |\n",
        "| 성사 | `fan` |\n",
        "| 미성사 | `dan` |\n",
        "| 미성사 | `ran` |\n",
        "| 미성사 | `pan` |"
      ]
    },
    {
      "cell_type": "code",
      "execution_count": null,
      "metadata": {
        "id": "opcP5p7Rhzzg"
      },
      "outputs": [],
      "source": [
        "# 코드를 작성한다.\n",
        "# 필요하면 코드셀 또는 텍스트셀을 추가할 수 있습니다.\n"
      ]
    },
    {
      "cell_type": "markdown",
      "metadata": {
        "id": "FsKvWmJKhzzg"
      },
      "source": [
        "**문제 3**"
      ]
    },
    {
      "cell_type": "markdown",
      "metadata": {
        "id": "RDIv4npwhzzh"
      },
      "source": [
        "아래 표에 포함된 각각의 문자열에 대해 성사로 표시된 문자열 전체를 매칭 시키는 하나의 정규표현식을\n",
        "선언한 다음에 이를 확인하라.\n",
        "단, 미성사로 표시된 문자열에 대해서는 매칭이 없어야 한다.\n",
        "\n",
        "힌트: 특정 문자 또는 문자열의 반복횟수를 지정하거나 한 번 또는 0번 이상의 반복을 지정할 수 있다."
      ]
    },
    {
      "cell_type": "markdown",
      "metadata": {
        "id": "8dkYWRf9hzzh"
      },
      "source": [
        "| 매칭 | 문자열 |\n",
        "| :---: | :--- |\n",
        "| 성사 | `waazzzup` |\n",
        "| 성사 | `waaazzzup` |\n",
        "| 미성사 | `wazzzzzup` |\n",
        "| 미성사 | `wazup` |"
      ]
    },
    {
      "cell_type": "code",
      "execution_count": null,
      "metadata": {
        "id": "vkTx09s6hzzh"
      },
      "outputs": [],
      "source": [
        "# 코드를 작성한다.\n",
        "# 필요하면 코드셀 또는 텍스트셀을 추가할 수 있습니다.\n"
      ]
    },
    {
      "cell_type": "markdown",
      "metadata": {
        "id": "r0EGKsELhzzh"
      },
      "source": [
        "**문제 4**"
      ]
    },
    {
      "cell_type": "markdown",
      "metadata": {
        "id": "BC14GOwshzzi"
      },
      "source": [
        "아래 표에 포함된 각각의 문자열에 대해 성사로 표시된 문자열 전체를 매칭 시키는 하나의 정규표현식을\n",
        "선언한 다음에 이를 확인하라.\n",
        "단, 미성사로 표시된 문자열에 대해서는 매칭이 없어야 한다.\n",
        "\n",
        "힌트: `\\s`는 모든 화이트 스페이스 문자를 가리킨다.\n",
        "반면에 `\\S`는 화이트 스페이스를 제외한 임의의 문자를 가리킨다."
      ]
    },
    {
      "cell_type": "markdown",
      "metadata": {
        "id": "KkXbz_WQhzzi"
      },
      "source": [
        "| 매칭 | 문자열 |\n",
        "| :---: | :--- |\n",
        "| 성사 | `1. abc` |\n",
        "| 성사 | `2.  abc` |\n",
        "| 성사 | `3.   abc` |\n",
        "| 미성사 | `4.abc` |"
      ]
    },
    {
      "cell_type": "code",
      "execution_count": null,
      "metadata": {
        "id": "sdZVfpN6hzzi"
      },
      "outputs": [],
      "source": [
        "# 코드를 작성한다.\n",
        "# 필요하면 코드셀 또는 텍스트셀을 추가할 수 있습니다.\n"
      ]
    },
    {
      "cell_type": "markdown",
      "metadata": {
        "id": "1_3mjFuEhzzi"
      },
      "source": [
        "**문제 5**"
      ]
    },
    {
      "cell_type": "markdown",
      "metadata": {
        "id": "H9GZuL8ehzzi"
      },
      "source": [
        "아래 표에 포함된 각각의 문자열에 대해 성사로 표시된 문자열 전체를 매칭 시키는 하나의 정규표현식을\n",
        "선언한 다음에 이를 확인하라.\n",
        "단, 미성사로 표시된 문자열에 대해서는 매칭이 없어야 한다.\n",
        "\n",
        "힌트: 부분문자열을 캡처한 뒤에 재활용할 수 있는 기능도 지원한다.\n",
        "캡처하고자 하는 부분문자열의 패턴을 소괄호로 감싸인 정규표현식으로 지정한다."
      ]
    },
    {
      "cell_type": "markdown",
      "metadata": {
        "id": "Li55jEQwhzzi"
      },
      "source": [
        "| 그룹 지정 | 문자열 | 그룹 |\n",
        "| :---: | :--- | :--- |\n",
        "| 성사 | `file_record_transcript.pdf` | `file_record_transcript` |\n",
        "| 성사 | `file_07241999.pdf` | `file_07241999` |\n",
        "| 미성사 | `testfile_fake.pdf.tmp` | |"
      ]
    },
    {
      "cell_type": "code",
      "execution_count": null,
      "metadata": {
        "id": "rRBFJ0I9hzzi"
      },
      "outputs": [],
      "source": [
        "# 코드를 작성한다.\n",
        "# 필요하면 코드셀 또는 텍스트셀을 추가할 수 있습니다.\n"
      ]
    },
    {
      "cell_type": "markdown",
      "metadata": {
        "id": "bxK4Wd_yhzzj"
      },
      "source": [
        "**문제 6**"
      ]
    },
    {
      "cell_type": "markdown",
      "metadata": {
        "id": "pqpXk0V8hzzj"
      },
      "source": [
        "아래 표에 포함된 각각의 문자열에 대해 성사로 표시된 문자열 전체를 매칭 시키는 하나의 정규표현식을\n",
        "선언한 다음에 이를 확인하라.\n",
        "단, 미성사로 표시된 문자열에 대해서는 매칭이 없어야 한다.\n",
        "\n",
        "힌트: 소괄호와 파이프 기호 `|`를 함께 사용하면 여러 개의 문자열중에 하나와 매칭되는 문자열을 캡처한다."
      ]
    },
    {
      "cell_type": "markdown",
      "metadata": {
        "id": "_wNdSHdMhzzj"
      },
      "source": [
        "| 매칭 | 문자열 |\n",
        "| :---: | :--- |\n",
        "| 성사 | `tomato: 1` |\n",
        "| 성사 | `potatos: 2` |"
      ]
    },
    {
      "cell_type": "code",
      "execution_count": null,
      "metadata": {
        "id": "arWCjZjChzzj"
      },
      "outputs": [],
      "source": [
        "# 코드를 작성한다.\n",
        "# 필요하면 코드셀 또는 텍스트셀을 추가할 수 있습니다.\n"
      ]
    },
    {
      "cell_type": "markdown",
      "metadata": {
        "id": "psLfC1tthzzj"
      },
      "source": [
        "**문제 7**"
      ]
    },
    {
      "cell_type": "markdown",
      "metadata": {
        "id": "6tN5dV_mhzzj"
      },
      "source": [
        "전화번호 끝 네자리를 별표로 처리하는 코드를 작성하라.\n",
        "단 정규표현식을 컴파일한 패턴과 패턴의 `sub()` 메서드만 이용한다."
      ]
    },
    {
      "cell_type": "code",
      "execution_count": null,
      "metadata": {
        "id": "i8TB4dQ0hzzj"
      },
      "outputs": [],
      "source": [
        "phone_numbers = \"\"\"\n",
        "010-8009-9118\n",
        "031-700-1919\n",
        "02-769-9877\n",
        "\"\"\""
      ]
    },
    {
      "cell_type": "code",
      "execution_count": null,
      "metadata": {
        "id": "v6MpMf-thzzj"
      },
      "outputs": [],
      "source": [
        "# 코드를 작성한다.\n",
        "# 필요하면 코드셀 또는 텍스트셀을 추가할 수 있습니다.\n"
      ]
    },
    {
      "cell_type": "markdown",
      "metadata": {
        "id": "jsUMaWS9hzzk"
      },
      "source": [
        "**문제 8**"
      ]
    },
    {
      "cell_type": "markdown",
      "metadata": {
        "id": "AREELS09hzzk"
      },
      "source": [
        "아래 표에 포함된 각각의 문자열에 대해 성사로 표시된 문자열 전체를 매칭 시키는 하나의 정규표현식을\n",
        "선언한 다음에 이를 확인하라.\n",
        "단, 미성사로 표시된 문자열에 대해서는 매칭이 없어야 한다."
      ]
    },
    {
      "cell_type": "markdown",
      "metadata": {
        "id": "Kf6Guf5dhzzk"
      },
      "source": [
        "| 매칭 | 문자열 |\n",
        "| :---: | :--- |\n",
        "| 성사 | `3.14529` |\n",
        "| 성사 | `-255.34` |\n",
        "| 성사 | `128` |\n",
        "| 성사 | `1.9e10` |\n",
        "| 성사 | `123,340.00` |\n",
        "| 미성사 | `720p` |"
      ]
    },
    {
      "cell_type": "code",
      "execution_count": null,
      "metadata": {
        "id": "l-iAeS16hzzk"
      },
      "outputs": [],
      "source": [
        "# 코드를 작성한다.\n",
        "# 필요하면 코드셀 또는 텍스트셀을 추가할 수 있습니다.\n"
      ]
    },
    {
      "cell_type": "markdown",
      "metadata": {
        "id": "gdmz5n1Hhzzk"
      },
      "source": [
        "**문제 9**"
      ]
    },
    {
      "cell_type": "markdown",
      "metadata": {
        "id": "d5tSehwAhzzk"
      },
      "source": [
        "아래 표에 포함된 각각의 문자열에 대해 성사로 표시된 문자열 전체를 매칭 시키는 하나의 정규표현식을\n",
        "선언한 다음에 이를 확인하라.\n",
        "단, 이메일 주소의 아이디는 캡처되어야 한다.\n",
        "또한 정규표현식을 컴파일한 패턴을 이용한다."
      ]
    },
    {
      "cell_type": "markdown",
      "metadata": {
        "id": "SP-9BP-vhzzk"
      },
      "source": [
        "| 그룹 지정 | 문자열 | 그룹 |\n",
        "| :---: | :--- | :--- |\n",
        "| 성사 | `tom@hogwarts.com` | `tom` |\n",
        "| 성사 | `tom.riddle@hogwarts.com` | `tom.riddle` |\n",
        "| 성사 | `tom.riddle+regexone@hogwarts.com` | `tom.riddle` |"
      ]
    },
    {
      "cell_type": "code",
      "execution_count": null,
      "metadata": {
        "id": "WtEhHStvhzzl"
      },
      "outputs": [],
      "source": [
        "# 코드를 작성한다.\n",
        "# 필요하면 코드셀 또는 텍스트셀을 추가할 수 있습니다.\n"
      ]
    },
    {
      "cell_type": "markdown",
      "metadata": {
        "id": "H4wx_8AUhzzq"
      },
      "source": [
        "**문제 10**"
      ]
    },
    {
      "cell_type": "markdown",
      "metadata": {
        "id": "WIqMh7VGhzzq"
      },
      "source": [
        "아래 표에 포함된 각각의 문자열에 대해 HTML 태그로 감싸진 부분문자열을 캡처하는 정규표현식을\n",
        "선언한 다음에 이를 확인하라.\n",
        "또한 정규표현식을 컴파일한 패턴을 이용한다."
      ]
    },
    {
      "cell_type": "markdown",
      "metadata": {
        "id": "MCAsAIR_hzzr"
      },
      "source": [
        "| 그룹 지정 | 문자열 | 그룹 |\n",
        "| :---: | :--- | :--- |\n",
        "| 성사 | `<a>This is a link</a>` | `This is a link` |\n",
        "| 성사 | `<a href='https://regexone.com'>Link</a>` | `Link` |\n",
        "| 성사 | `<div class='test_style'>Test</div>` | `Test` |\n",
        "| 성사 | `<div>Hello <span>world</span></div>` | `Hello` |"
      ]
    },
    {
      "cell_type": "code",
      "execution_count": null,
      "metadata": {
        "id": "g3gN2w2Ahzzr"
      },
      "outputs": [],
      "source": [
        "# 코드를 작성한다.\n",
        "# 필요하면 코드셀 또는 텍스트셀을 추가할 수 있습니다.\n"
      ]
    },
    {
      "cell_type": "markdown",
      "metadata": {
        "id": "aDgAdwpihzzr"
      },
      "source": [
        "**문제 11**"
      ]
    },
    {
      "cell_type": "markdown",
      "metadata": {
        "id": "gjBfzCTLhzzr"
      },
      "source": [
        "아래 표에 포함된 파일명 중에서 jpg, png, gif 등의 확장자를 가진 사진 파일명을 매칭하면서\n",
        "파일명과 확장자를 캡처하는 정규표현식을 선언한 다음에 이를 확인하라.\n",
        "또한 정규표현식을 컴파일한 패턴을 이용한다."
      ]
    },
    {
      "cell_type": "markdown",
      "metadata": {
        "id": "X_zQKP1dhzzr"
      },
      "source": [
        "| 그룹 지정 | 문자열 | 그룹 |\n",
        "| :---: | :--- | :--- |\n",
        "| 미성사 | `.bash_profile` | |\n",
        "| 미성사 | `workspace.doc` | |\n",
        "| 성사 | `imatch0912.jpg` | `imatch0912` `jpg` |\n",
        "| 성사 | `updated_imatch0912.png` | `updated_imatch0912` `png` |\n",
        "| 성사 | `favicon.gif` | `favicon` `gif` |\n",
        "| 미성사 | `imatch0912.jpg.tmp` | |"
      ]
    },
    {
      "cell_type": "code",
      "execution_count": null,
      "metadata": {
        "id": "i9ZDqXOohzzr"
      },
      "outputs": [],
      "source": [
        "# 코드를 작성한다.\n",
        "# 필요하면 코드셀 또는 텍스트셀을 추가할 수 있습니다.\n"
      ]
    },
    {
      "cell_type": "markdown",
      "metadata": {
        "id": "JDTCaH-khzzr"
      },
      "source": [
        "**문제 12**"
      ]
    },
    {
      "cell_type": "markdown",
      "metadata": {
        "id": "whD8SAh9hzzr"
      },
      "source": [
        "아래 표에 인터넷 또는 파일 주소를 가리키는 문자열에 대해 그룹으로 지정된 두 개 또는 세 개의 부분문자여을 캠처하는\n",
        "정규표현식을 선언한 다음에 이를 확인하라.\n",
        "또한 정규표현식을 컴파일한 패턴을 이용한다."
      ]
    },
    {
      "cell_type": "markdown",
      "metadata": {
        "id": "TkOKwiebhzzr"
      },
      "source": [
        "| 그룹 지정 | 문자열 | 그룹 |\n",
        "| :---: | :--- | :--- |\n",
        "| 성사 | `https://regexone.com/lesson/` | `https` `regexone.com` |\n",
        "| 성사 | `ftp://file_server.com:21/top_secret/life_changing_plans.pdf` | `ftp` `file_server.com` `21` |\n",
        "| 성사 | `file://localhost:4040/zip_file` | `file` `localhost` `4040` |\n",
        "| 성사 | \t`market://search/angry%20birds`\t| `market` `search` |"
      ]
    },
    {
      "cell_type": "code",
      "execution_count": null,
      "metadata": {
        "id": "ngSq46Xzhzzr"
      },
      "outputs": [],
      "source": [
        "# 코드를 작성한다.\n",
        "# 필요하면 코드셀 또는 텍스트셀을 추가할 수 있습니다.\n"
      ]
    }
  ],
  "metadata": {
    "colab": {
      "provenance": []
    },
    "kernelspec": {
      "display_name": "Python 3 (ipykernel)",
      "language": "python",
      "name": "python3"
    },
    "language_info": {
      "codemirror_mode": {
        "name": "ipython",
        "version": 3
      },
      "file_extension": ".py",
      "mimetype": "text/x-python",
      "name": "python",
      "nbconvert_exporter": "python",
      "pygments_lexer": "ipython3",
      "version": "3.12.2"
    }
  },
  "nbformat": 4,
  "nbformat_minor": 0
}