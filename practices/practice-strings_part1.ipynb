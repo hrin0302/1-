{
  "cells": [
    {
      "cell_type": "markdown",
      "metadata": {
        "id": "BC3IUzBN0onD"
      },
      "source": [
        "# (연습) 문자열 1부"
      ]
    },
    {
      "cell_type": "markdown",
      "metadata": {
        "id": "MgBCG_zE0A9f"
      },
      "source": [
        "**주의 사항**\n",
        "\n",
        "* 기존에 작성된 코드 셀과 텍스트 셀은 수정하지 않는다.\n",
        "* 필요한 경우 코드 셀 또는 텍스트 셀을 추가해서 사용한다."
      ]
    },
    {
      "cell_type": "markdown",
      "metadata": {
        "id": "68QghQsi0onH"
      },
      "source": [
        "**문제 1**"
      ]
    },
    {
      "cell_type": "markdown",
      "metadata": {
        "id": "rCf_9UUc0onI"
      },
      "source": [
        "아래 코드의 실행 결과를 설명하라."
      ]
    },
    {
      "cell_type": "code",
      "execution_count": 1,
      "metadata": {
        "colab": {
          "base_uri": "https://localhost:8080/"
        },
        "id": "UjvxkBGD0onI",
        "outputId": "7b37aeef-abb9-4012-8576-1e3811e351da"
      },
      "outputs": [
        {
          "output_type": "stream",
          "name": "stdout",
          "text": [
            "\tHello World\n",
            "\\\n"
          ]
        }
      ],
      "source": [
        "print(\"\\tHello World\\n\\\\\")"
      ]
    },
    {
      "cell_type": "markdown",
      "source": [
        "\\t은 탭, 스페이스 하나, \\n은 줄바꿈, \\\\은 \\자체가 됐다."
      ],
      "metadata": {
        "id": "102LbWqC1ftV"
      }
    },
    {
      "cell_type": "markdown",
      "metadata": {
        "id": "b172RpOQ0onJ"
      },
      "source": [
        "**문제 2**"
      ]
    },
    {
      "cell_type": "markdown",
      "metadata": {
        "id": "cuBjZ7gw0onJ"
      },
      "source": [
        "아래 코드의 실행 결과를 설명하라."
      ]
    },
    {
      "cell_type": "code",
      "execution_count": 2,
      "metadata": {
        "colab": {
          "base_uri": "https://localhost:8080/"
        },
        "id": "nIjXzkLT0onK",
        "outputId": "648d1df1-1b09-4bd7-c899-6a98ea1bd32e"
      },
      "outputs": [
        {
          "output_type": "execute_result",
          "data": {
            "text/plain": [
              "30"
            ]
          },
          "metadata": {},
          "execution_count": 2
        }
      ],
      "source": [
        "len(' \\t\\n' * 10)"
      ]
    },
    {
      "cell_type": "code",
      "execution_count": null,
      "metadata": {
        "id": "eXeGY7Lg0onK"
      },
      "outputs": [],
      "source": [
        "# 코드를 작성한다.\n",
        "# 필요하면 코드셀 또는 텍스트셀을 추가할 수 있습니다.\n",
        "따옴표 안 쪽의 스페이스가 문자열 하나, \\t(탭)이 문자열 둘, \\n(줄바꿈)이 문자열 셋으로 총 3만큼의 길이가 10번 반복되어 30이 됐다."
      ]
    },
    {
      "cell_type": "markdown",
      "metadata": {
        "id": "Yjd2NcPN0onK"
      },
      "source": [
        "**문제 3**"
      ]
    },
    {
      "cell_type": "markdown",
      "metadata": {
        "id": "ZLHEL68w0onL"
      },
      "source": [
        "아래 세 코드의 실행 결과의 차이점을 설명하라."
      ]
    },
    {
      "cell_type": "markdown",
      "metadata": {
        "id": "FOPplkoC0onL"
      },
      "source": [
        "- 코드 1"
      ]
    },
    {
      "cell_type": "code",
      "execution_count": 3,
      "metadata": {
        "colab": {
          "base_uri": "https://localhost:8080/"
        },
        "id": "SzG2BzXb0onL",
        "outputId": "b03b6e78-5924-4951-ef66-2f0324d4571f"
      },
      "outputs": [
        {
          "output_type": "stream",
          "name": "stdout",
          "text": [
            "C:\\Users\\user\\Downloads\n"
          ]
        }
      ],
      "source": [
        "print(r\"C:\\Users\\user\\Downloads\")"
      ]
    },
    {
      "cell_type": "markdown",
      "source": [
        "코드1은 날 문자열을 이용했기 때문에 \\가 있어도 문자 그대로 취급한다."
      ],
      "metadata": {
        "id": "DxXfjfDv3eLK"
      }
    },
    {
      "cell_type": "markdown",
      "metadata": {
        "id": "Zd53L3g_0onL"
      },
      "source": [
        "- 코드 2"
      ]
    },
    {
      "cell_type": "code",
      "execution_count": 4,
      "metadata": {
        "colab": {
          "base_uri": "https://localhost:8080/",
          "height": 106
        },
        "id": "A600wwTd0onL",
        "outputId": "83267f74-855d-4fa7-da54-2bfe8f8747fa"
      },
      "outputs": [
        {
          "output_type": "error",
          "ename": "SyntaxError",
          "evalue": "unterminated string literal (detected at line 1) (<ipython-input-4-e9621a1ff7f2>, line 1)",
          "traceback": [
            "\u001b[0;36m  File \u001b[0;32m\"<ipython-input-4-e9621a1ff7f2>\"\u001b[0;36m, line \u001b[0;32m1\u001b[0m\n\u001b[0;31m    print(r\"C:\\Users\\user\\Downloads\\\")\u001b[0m\n\u001b[0m          ^\u001b[0m\n\u001b[0;31mSyntaxError\u001b[0m\u001b[0;31m:\u001b[0m unterminated string literal (detected at line 1)\n"
          ]
        }
      ],
      "source": [
        "print(r\"C:\\Users\\user\\Downloads\\\")"
      ]
    },
    {
      "cell_type": "markdown",
      "source": [
        "코드2 또한 날 문자열을 사용했지만 마지막에는 \\가 올 수 없다. \\가 마지막에 오게 하기 위해서는 \\\\를 사용해 주어야 한다."
      ],
      "metadata": {
        "id": "CTU5laoM3sh_"
      }
    },
    {
      "cell_type": "markdown",
      "metadata": {
        "id": "hdRL0pPF0onM"
      },
      "source": [
        "- 코드 3"
      ]
    },
    {
      "cell_type": "code",
      "execution_count": 5,
      "metadata": {
        "colab": {
          "base_uri": "https://localhost:8080/"
        },
        "id": "ZMG5fscq0onM",
        "outputId": "6dbc2d11-6aa3-45d3-bb00-4a1eaf5936b0"
      },
      "outputs": [
        {
          "output_type": "stream",
          "name": "stdout",
          "text": [
            "C:\\Users\\user\\Downloads\\\\\n"
          ]
        }
      ],
      "source": [
        "print(r\"C:\\Users\\user\\Downloads\\\\\")"
      ]
    },
    {
      "cell_type": "markdown",
      "source": [
        "코드3에서는 코드2에서 일어난 오류를 수정했다."
      ],
      "metadata": {
        "id": "46ae88t64DZs"
      }
    },
    {
      "cell_type": "markdown",
      "metadata": {
        "id": "KIBK9AIX0onM"
      },
      "source": [
        "**문제 4**"
      ]
    },
    {
      "cell_type": "markdown",
      "metadata": {
        "id": "VJwXCebS0onM"
      },
      "source": [
        "아래 부동소수점을 소수점 이하 셋째 자리까지만 출력되도록 f-문자열을 활용하라."
      ]
    },
    {
      "cell_type": "code",
      "execution_count": 6,
      "metadata": {
        "id": "3A7oa1p20onM"
      },
      "outputs": [],
      "source": [
        "num = 23.36778\n",
        "num1 = -84.99888"
      ]
    },
    {
      "cell_type": "code",
      "execution_count": 7,
      "metadata": {
        "colab": {
          "base_uri": "https://localhost:8080/"
        },
        "id": "bF6QnYSA0onM",
        "outputId": "874b9efa-a751-4e05-ed51-b8f6560490eb"
      },
      "outputs": [
        {
          "output_type": "stream",
          "name": "stdout",
          "text": [
            "23.368\n",
            "-84.999\n"
          ]
        }
      ],
      "source": [
        "# 코드를 작성한다.\n",
        "# 필요하면 코드셀 또는 텍스트셀을 추가할 수 있습니다.\n",
        "\n",
        "print(f\"{num:.3f}\")\n",
        "print(f\"{num1:.3f}\")"
      ]
    },
    {
      "cell_type": "markdown",
      "metadata": {
        "id": "yFte-BjU0onN"
      },
      "source": [
        "**문제 5**"
      ]
    },
    {
      "cell_type": "markdown",
      "metadata": {
        "id": "TtTWeSqd0onN"
      },
      "source": [
        "아래 부동소수점의 소수점을 모두 버리로 정수 부문만 출력되도록 f-문자열을 활용하라.\n",
        "또한 정수는 총 10칸을 차지하도록 한다.\n",
        "단, `int()` 함수는 사용하지 않는다."
      ]
    },
    {
      "cell_type": "code",
      "execution_count": 8,
      "metadata": {
        "id": "cltU4G6T0onN"
      },
      "outputs": [],
      "source": [
        "num2 = 23.36778\n",
        "num3 = 8223.62874636778"
      ]
    },
    {
      "cell_type": "code",
      "execution_count": 10,
      "metadata": {
        "colab": {
          "base_uri": "https://localhost:8080/"
        },
        "id": "5UTFgcmv0onN",
        "outputId": "48bcd216-2a8e-4820-80c1-f55889811c1c"
      },
      "outputs": [
        {
          "output_type": "stream",
          "name": "stdout",
          "text": [
            "        23\n",
            "      8224\n"
          ]
        }
      ],
      "source": [
        "# 코드를 작성한다.\n",
        "# 필요하면 코드셀 또는 텍스트셀을 추가할 수 있습니다.\n",
        "\n",
        "print(f\"{num2:10.0f}\")\n",
        "print(f\"{num3:10.0f}\")"
      ]
    },
    {
      "cell_type": "markdown",
      "metadata": {
        "id": "nbwbrwx60onN"
      },
      "source": [
        "**문제 6**"
      ]
    },
    {
      "cell_type": "markdown",
      "metadata": {
        "id": "hPrlpR5V0onN"
      },
      "source": [
        "아래 두 개의 부동소수점을 총 15 칸을 차지하도록 f-문자열을 활용하라.\n",
        "또한 소수점 이하 다섯째 자리까지만 출력되록 한다.\n",
        "단 모든 정수는 오른쪽으로 정렬되어야 하며 앞쪽 빈칸은 `+` 기호로 채운다."
      ]
    },
    {
      "cell_type": "code",
      "execution_count": 11,
      "metadata": {
        "id": "ySRkWoAj0onN"
      },
      "outputs": [],
      "source": [
        "num4 = 887223.8348161\n",
        "num5 = 6833.127230009267"
      ]
    },
    {
      "cell_type": "code",
      "execution_count": 13,
      "metadata": {
        "colab": {
          "base_uri": "https://localhost:8080/"
        },
        "id": "u-IX_NyR0onN",
        "outputId": "ca07ecc2-3e32-4c9c-90d0-8203c4aafa39"
      },
      "outputs": [
        {
          "output_type": "stream",
          "name": "stdout",
          "text": [
            "+++887223.83482\n",
            "+++++6833.12723\n"
          ]
        }
      ],
      "source": [
        "# 코드를 작성한다.\n",
        "# 필요하면 코드셀 또는 텍스트셀을 추가할 수 있습니다.\n",
        "\n",
        "print(f\"{num4:+>15.5f}\")\n",
        "print(f\"{num5:+>15.5f}\")"
      ]
    }
  ],
  "metadata": {
    "colab": {
      "name": "실습답안3.ipynb",
      "provenance": []
    },
    "kernelspec": {
      "display_name": "Python 3 (ipykernel)",
      "language": "python",
      "name": "python3"
    },
    "language_info": {
      "codemirror_mode": {
        "name": "ipython",
        "version": 3
      },
      "file_extension": ".py",
      "mimetype": "text/x-python",
      "name": "python",
      "nbconvert_exporter": "python",
      "pygments_lexer": "ipython3",
      "version": "3.12.2"
    }
  },
  "nbformat": 4,
  "nbformat_minor": 0
}