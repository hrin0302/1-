{
  "cells": [
    {
      "cell_type": "markdown",
      "metadata": {
        "id": "lAMRp1mAEsP3"
      },
      "source": [
        "# (연습) 문자열  3부"
      ]
    },
    {
      "cell_type": "markdown",
      "metadata": {
        "id": "MgBCG_zE0A9f"
      },
      "source": [
        "**주의 사항**\n",
        "\n",
        "* 기존에 작성된 코드 셀과 텍스트 셀은 수정하지 않는다.\n",
        "* 필요한 경우 코드 셀 또는 텍스트 셀을 추가해서 사용한다."
      ]
    },
    {
      "cell_type": "markdown",
      "metadata": {
        "id": "ncaRWDJTEsP4"
      },
      "source": [
        "**문제 1**"
      ]
    },
    {
      "cell_type": "markdown",
      "metadata": {
        "id": "OZbEverQEsP4"
      },
      "source": [
        "다음과 같이 영어 알파벳으로 구성된 문자열이 주어졌다."
      ]
    },
    {
      "cell_type": "code",
      "execution_count": null,
      "metadata": {
        "id": "osuzsQSaEsP5"
      },
      "outputs": [],
      "source": [
        "text = \"python data analysis\""
      ]
    },
    {
      "cell_type": "markdown",
      "metadata": {
        "id": "mv0Yzr3AEsP5"
      },
      "source": [
        "(1) 문자열에 포함된 모음의 개수를 확인하는 코드를 작성하려 한다.\n",
        "단, 모음 알파벳은 아래 문자열에 포함되어 있다."
      ]
    },
    {
      "cell_type": "code",
      "execution_count": null,
      "metadata": {
        "id": "XjnrQsNKEsP5"
      },
      "outputs": [],
      "source": [
        "vowels='AEIOUaeiou'"
      ]
    },
    {
      "cell_type": "markdown",
      "metadata": {
        "id": "tAOfrz4kEsP6"
      },
      "source": [
        "예를 들어 다음과 같이 `for` 반복문을 이용할 수 있다."
      ]
    },
    {
      "cell_type": "code",
      "execution_count": null,
      "metadata": {
        "id": "fwuuhgtmEsP6",
        "outputId": "130e25d4-0344-4f57-9283-3db19dc15e97"
      },
      "outputs": [
        {
          "name": "stdout",
          "output_type": "stream",
          "text": [
            "모음 개수: 6\n"
          ]
        }
      ],
      "source": [
        "count_vowels = 0\n",
        "for char in text:\n",
        "    if char in vowels:\n",
        "        count_vowels += 1\n",
        "\n",
        "print(\"모음 개수:\", count_vowels)"
      ]
    },
    {
      "cell_type": "markdown",
      "metadata": {
        "id": "P20ehXR_EsP6"
      },
      "source": [
        "`continue` 명령문을 사용하여 위 코드를 수정하라.\n",
        "단 동일한 결과가 나와야 한다."
      ]
    },
    {
      "cell_type": "code",
      "execution_count": null,
      "metadata": {
        "id": "jOzsUAMnEsP6"
      },
      "outputs": [],
      "source": [
        "# 코드를 작성한다.\n",
        "# 필요하면 코드셀 또는 텍스트셀을 추가할 수 있습니다.\n"
      ]
    },
    {
      "cell_type": "markdown",
      "metadata": {
        "id": "Ri_AzZDdEsP7"
      },
      "source": [
        "(2) 문자열에 포함된 자음의 개수를 확인하는 코드를 작성하려 한다."
      ]
    },
    {
      "cell_type": "markdown",
      "metadata": {
        "id": "pdRSZIxEEsP7"
      },
      "source": [
        "`text` 문자열은 공백을 포함하는데, 공백은 알파벳이 아니다.\n",
        "따라서 모음과는 달리 자음만 추출하려면 공백도 제외시켜야 한다.\n",
        "이를 위해 문자열이 영어 26개의 알파벳으로만 구성되었는지 여부를 판정하는 `isalpha()`\n",
        "문자열 메서드를 이용한다."
      ]
    },
    {
      "cell_type": "code",
      "execution_count": null,
      "metadata": {
        "id": "6U6x2glcEsP7",
        "outputId": "cfe66c4a-d78c-4752-dfbb-fa79dcf81a24"
      },
      "outputs": [
        {
          "data": {
            "text/plain": [
              "True"
            ]
          },
          "execution_count": 35,
          "metadata": {},
          "output_type": "execute_result"
        }
      ],
      "source": [
        "'a'.isalpha()"
      ]
    },
    {
      "cell_type": "code",
      "execution_count": null,
      "metadata": {
        "id": "ZdF0GnolEsP7",
        "outputId": "f7105996-05ea-4f56-a524-1f005cf9763d"
      },
      "outputs": [
        {
          "data": {
            "text/plain": [
              "True"
            ]
          },
          "execution_count": 36,
          "metadata": {},
          "output_type": "execute_result"
        }
      ],
      "source": [
        "'ab'.isalpha()"
      ]
    },
    {
      "cell_type": "code",
      "execution_count": null,
      "metadata": {
        "id": "Fv3mrGu3EsP7",
        "outputId": "1b751d4b-8c6b-40a2-e8d9-c12899378f6f"
      },
      "outputs": [
        {
          "data": {
            "text/plain": [
              "False"
            ]
          },
          "execution_count": 37,
          "metadata": {},
          "output_type": "execute_result"
        }
      ],
      "source": [
        "'ab3'.isalpha()"
      ]
    },
    {
      "cell_type": "markdown",
      "metadata": {
        "id": "byCwZUhGEsP7"
      },
      "source": [
        "아래 코드는 주어진 영어 문장 `text`에 대해 모음이 아닌 알파벳이 사용된 횟수를\n",
        "`for` 반복문을 이용하여 계산한다.\n",
        "`isalpha()` 메서드를 이용하여 모음이 아니면서 영어 알파벳인 경우일 때만 `count_consonant` 값이 업데이트됨에 주의한다."
      ]
    },
    {
      "cell_type": "code",
      "execution_count": null,
      "metadata": {
        "id": "hpt8CHyVEsP7",
        "outputId": "6e61b1f9-0aea-4d8a-ed74-2b39dfad8d05"
      },
      "outputs": [
        {
          "name": "stdout",
          "output_type": "stream",
          "text": [
            "자음 개수: 12\n"
          ]
        }
      ],
      "source": [
        "count_consonant = 0\n",
        "for char in text:\n",
        "    if (char not in vowels) and char.isalpha():\n",
        "        count_consonant += 1\n",
        "\n",
        "print(\"자음 개수:\", count_consonant)"
      ]
    },
    {
      "cell_type": "markdown",
      "metadata": {
        "id": "iVT10-p5EsP7"
      },
      "source": [
        "`continue` 명령문을 사용하도록 위 코드를 수정하라."
      ]
    },
    {
      "cell_type": "code",
      "execution_count": null,
      "metadata": {
        "id": "GcxQWahREsP7"
      },
      "outputs": [],
      "source": [
        "# 코드를 작성한다.\n",
        "# 필요하면 코드셀 또는 텍스트셀을 추가할 수 있습니다.\n"
      ]
    },
    {
      "cell_type": "markdown",
      "metadata": {
        "id": "RmhmfMVDEsP8"
      },
      "source": [
        "**문제 2**"
      ]
    },
    {
      "cell_type": "markdown",
      "metadata": {
        "id": "B0ANApjREsP8"
      },
      "source": [
        "두 개의 문자열이 다음과 같이 주어졌다."
      ]
    },
    {
      "cell_type": "code",
      "execution_count": null,
      "metadata": {
        "id": "ZWSv3qhkEsP8"
      },
      "outputs": [],
      "source": [
        "string = \"PythonForPythonForPythonForPythonForPython\"\n",
        "substring = \"ForPythonFor\""
      ]
    },
    {
      "cell_type": "markdown",
      "metadata": {
        "id": "cCP9pRJGEsP8"
      },
      "source": [
        "이때 `substring`이 `string`에 사용된 횟수는 두 번으로 확인된다."
      ]
    },
    {
      "cell_type": "code",
      "execution_count": null,
      "metadata": {
        "id": "72UFHbJgEsP8",
        "outputId": "f425263e-050c-474d-fec5-c732eb6b29ad"
      },
      "outputs": [
        {
          "data": {
            "text/plain": [
              "2"
            ]
          },
          "execution_count": 42,
          "metadata": {},
          "output_type": "execute_result"
        }
      ],
      "source": [
        "string.count(substring)"
      ]
    },
    {
      "cell_type": "markdown",
      "metadata": {
        "id": "F4fe3U-bEsP8"
      },
      "source": [
        "이유는 `count()` 메서드는 지정된 문자열이 겹쳐지지 않는 경우만 확인하기 때문이다."
      ]
    },
    {
      "cell_type": "markdown",
      "metadata": {
        "id": "-zU-7mg0EsP8"
      },
      "source": [
        "(1) `substring`이 겹쳐지는 것도 허용하면서 사용된 횟수를 확인하면 3번이다.\n",
        "이 사실을 확인하는 코드를 `for` 반복문을 이용하여 작성하라.\n",
        "\n",
        "힌트: 문자열 슬라이싱 활용"
      ]
    },
    {
      "cell_type": "code",
      "execution_count": null,
      "metadata": {
        "id": "02_KxE3zEsP8"
      },
      "outputs": [],
      "source": [
        "# 코드를 작성한다.\n",
        "# 필요하면 코드셀 또는 텍스트셀을 추가할 수 있습니다.\n"
      ]
    },
    {
      "cell_type": "markdown",
      "metadata": {
        "id": "6HuM0S4vEsP8"
      },
      "source": [
        "(2) 위 코드를 아래 조건이 만족되도록 수정하라.\n",
        "\n",
        "- `count` 변수가 2가 될 때까지만 `for` 반복문이 실행되어야 한다.\n",
        "- 다음과 같이 출력되어야 함.\n",
        "\n",
        "        ForPythonFor이 중첩되어 사용됫 횟수: 최소 2회\n",
        "\n",
        "힌트: `break` 명령문 활용"
      ]
    },
    {
      "cell_type": "code",
      "execution_count": null,
      "metadata": {
        "id": "4FJ2vm9XEsP8"
      },
      "outputs": [],
      "source": [
        "# 코드를 작성한다.\n",
        "# 필요하면 코드셀 또는 텍스트셀을 추가할 수 있습니다.\n"
      ]
    },
    {
      "cell_type": "markdown",
      "metadata": {
        "id": "XLmSSb6oEsP8"
      },
      "source": [
        "**문제 3**"
      ]
    },
    {
      "cell_type": "markdown",
      "metadata": {
        "id": "rYB8elO1EsP8"
      },
      "source": [
        "`for` 반복문을 이용하여 구구단을 출력하고자 한다.\n",
        "반복문을 위해 아래 문자열을 이용한다."
      ]
    },
    {
      "cell_type": "code",
      "execution_count": 1,
      "metadata": {
        "id": "rc9DB1lnEsP8"
      },
      "outputs": [],
      "source": [
        "one2nine = '123456789'"
      ]
    },
    {
      "cell_type": "markdown",
      "metadata": {
        "id": "C-Nq1vteEsP8"
      },
      "source": [
        "(1) 사용자로부터 1부터 9사이의 정수를 입력 받은 후 입력된 정수의 배수에 해당하는 구구단만 화면에 출력하는\n",
        "코드를 작성하라.\n",
        "예를 들어, 사용자가 3을 입력하면 3의 배수인 3, 6, 9에 대한 구구단만 아래와 같이 출력해야 한다.\n",
        "또한 `for` 반복문과 함께 `continue` 명령문을 구구단 출력에 이용해야 하며,\n",
        "곱셈 결과는 오른쪽으로 정렬되어야 한다."
      ]
    },
    {
      "cell_type": "markdown",
      "metadata": {
        "id": "a73IyFn7EsP8"
      },
      "source": [
        "- 3을 입력하는 경우"
      ]
    },
    {
      "cell_type": "markdown",
      "metadata": {
        "id": "ld9pj0EwEsP8"
      },
      "source": [
        "```\n",
        "단수를 입력하세요: 3\n",
        "\n",
        "3의 배수 구구단 출력\n",
        "\n",
        "3단\n",
        "\n",
        "3 * 1 =  3\n",
        "3 * 2 =  6\n",
        "3 * 4 = 12\n",
        "3 * 5 = 15\n",
        "3 * 7 = 21\n",
        "3 * 8 = 24\n",
        "\n",
        "6단\n",
        "\n",
        "6 * 1 =  6\n",
        "6 * 2 = 12\n",
        "6 * 4 = 24\n",
        "6 * 5 = 30\n",
        "6 * 7 = 42\n",
        "6 * 8 = 48\n",
        "\n",
        "9단\n",
        "\n",
        "9 * 1 =  9\n",
        "9 * 2 = 18\n",
        "9 * 4 = 36\n",
        "9 * 5 = 45\n",
        "9 * 7 = 63\n",
        "9 * 8 = 72\n",
        "```"
      ]
    },
    {
      "cell_type": "markdown",
      "metadata": {
        "id": "GwWTRhrYEsP9"
      },
      "source": [
        "- 4를 입력하는 경우"
      ]
    },
    {
      "cell_type": "markdown",
      "metadata": {
        "id": "NXyx3_bpEsP9"
      },
      "source": [
        "```\n",
        "단수를 입력하세요: 4\n",
        "\n",
        "4의 배수 구구단 출력\n",
        "\n",
        "4단\n",
        "\n",
        "4 * 1 =  4\n",
        "4 * 2 =  8\n",
        "4 * 3 = 12\n",
        "4 * 5 = 20\n",
        "4 * 6 = 24\n",
        "4 * 7 = 28\n",
        "4 * 9 = 36\n",
        "\n",
        "8단\n",
        "\n",
        "8 * 1 =  8\n",
        "8 * 2 = 16\n",
        "8 * 3 = 24\n",
        "8 * 5 = 40\n",
        "8 * 6 = 48\n",
        "8 * 7 = 56\n",
        "8 * 9 = 72\n",
        "```"
      ]
    },
    {
      "cell_type": "markdown",
      "metadata": {
        "id": "evgQ4XkCEsP9"
      },
      "source": [
        "힌트: `for` 반복문을 중첩해서 활용"
      ]
    },
    {
      "cell_type": "code",
      "execution_count": 5,
      "metadata": {
        "id": "teCRr-OpEsP_",
        "outputId": "33ff62bb-dfbe-45c4-a8bc-1287c237bcf5",
        "colab": {
          "base_uri": "https://localhost:8080/"
        }
      },
      "outputs": [
        {
          "output_type": "stream",
          "name": "stdout",
          "text": [
            "단수를 입력하세요: 4\n",
            "\n",
            "4의 배수 구구단 출력\n",
            "\n",
            "4단\n",
            "\n",
            "4 * 1 =  4\n",
            "4 * 2 =  8\n",
            "4 * 3 = 12\n",
            "4 * 5 = 20\n",
            "4 * 6 = 24\n",
            "4 * 7 = 28\n",
            "4 * 9 = 36\n",
            "\n",
            "8단\n",
            "\n",
            "8 * 1 =  8\n",
            "8 * 2 = 16\n",
            "8 * 3 = 24\n",
            "8 * 5 = 40\n",
            "8 * 6 = 48\n",
            "8 * 7 = 56\n",
            "8 * 9 = 72\n"
          ]
        }
      ],
      "source": [
        "# 코드를 작성한다.\n",
        "# 필요하면 코드셀 또는 텍스트셀을 추가할 수 있습니다.\n",
        "\n",
        "table_number=int(input(\"단수를 입력하세요: \"))\n",
        "\n",
        "print(f\"\\n{table_number}의 배수 구구단 출력\")\n",
        "\n",
        "for i_th in one2nine:\n",
        "  i=int(i_th)\n",
        "  if i%table_number!=0:\n",
        "    continue\n",
        "  print(f\"\\n{i}단\\n\")\n",
        "  for j_th in one2nine:\n",
        "    j=int(j_th)\n",
        "    if j%table_number==0:\n",
        "      continue\n",
        "    print(f\"{i} * {j} = {i*j:>2d}\")"
      ]
    },
    {
      "cell_type": "markdown",
      "metadata": {
        "id": "h2p2kWmOEsP_"
      },
      "source": [
        "(2) 사용자로부터 1부터 9사이의 정수를 입력 받은 후 입력된 정수의 배수에 해당하는 구구단만\n",
        "지정된 형식으로 화면에 출력하는 코드를 작성하라.\n",
        "예를 들어, 사용자가 3을 입력하면 3의 배수인 3, 6, 9에 대한 구구단만 아래와 같이 출력해야 한다.\n",
        "또한 `for` 반복문과 함께 `continue`, `break` 명령문을 구구단 출력에 이용해야 하며,\n",
        "곱셈 결과는 오른쪽으로 정렬되어야 한다."
      ]
    },
    {
      "cell_type": "markdown",
      "metadata": {
        "id": "cOXw2pm4EsQA"
      },
      "source": [
        "- 3을 입력하는 경우"
      ]
    },
    {
      "cell_type": "markdown",
      "metadata": {
        "id": "_YCd855LEsQA"
      },
      "source": [
        "```\n",
        "단수를 입력하세요: 3\n",
        "\n",
        "3의 배수 구구단 출력\n",
        "\n",
        "1단\n",
        "\n",
        "1 * 3 =  3\n",
        "1 * 6 =  6\n",
        "1 * 9 =  9\n",
        "\n",
        "2단\n",
        "\n",
        "2 * 3 =  6\n",
        "2 * 6 = 12\n",
        "2 * 9 = 18\n",
        "```"
      ]
    },
    {
      "cell_type": "markdown",
      "metadata": {
        "id": "Notd8jytEsQA"
      },
      "source": [
        "- 4를 입력하는 경우"
      ]
    },
    {
      "cell_type": "markdown",
      "metadata": {
        "id": "iiuUeezjEsQA"
      },
      "source": [
        "```\n",
        "단수를 입력하세요: 4\n",
        "\n",
        "4의 배수 구구단 출력\n",
        "\n",
        "1단\n",
        "\n",
        "1 * 4 =  4\n",
        "1 * 8 =  8\n",
        "\n",
        "2단\n",
        "\n",
        "2 * 4 =  8\n",
        "2 * 8 = 16\n",
        "\n",
        "3단\n",
        "\n",
        "3 * 4 = 12\n",
        "3 * 8 = 24\n",
        "```"
      ]
    },
    {
      "cell_type": "markdown",
      "metadata": {
        "id": "TWfEw13GEsQA"
      },
      "source": [
        "힌트: `for` 반복문을 중첩해서 활용"
      ]
    },
    {
      "cell_type": "code",
      "execution_count": null,
      "metadata": {
        "id": "2N6wNzNNEsQA"
      },
      "outputs": [],
      "source": [
        "# 코드를 작성한다.\n",
        "# 필요하면 코드셀 또는 텍스트셀을 추가할 수 있습니다.\n"
      ]
    }
  ],
  "metadata": {
    "colab": {
      "name": "실습답안3.ipynb",
      "provenance": []
    },
    "kernelspec": {
      "display_name": "Python 3 (ipykernel)",
      "language": "python",
      "name": "python3"
    },
    "language_info": {
      "codemirror_mode": {
        "name": "ipython",
        "version": 3
      },
      "file_extension": ".py",
      "mimetype": "text/x-python",
      "name": "python",
      "nbconvert_exporter": "python",
      "pygments_lexer": "ipython3",
      "version": "3.12.2"
    }
  },
  "nbformat": 4,
  "nbformat_minor": 0
}