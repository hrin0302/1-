{
  "cells": [
    {
      "cell_type": "markdown",
      "metadata": {
        "id": "tJX-7fs9Af2n"
      },
      "source": [
        "# (연습) 문자열  2부"
      ]
    },
    {
      "cell_type": "markdown",
      "metadata": {
        "id": "MgBCG_zE0A9f"
      },
      "source": [
        "**주의 사항**\n",
        "\n",
        "* 기존에 작성된 코드 셀과 텍스트 셀은 수정하지 않는다.\n",
        "* 필요한 경우 코드 셀 또는 텍스트 셀을 추가해서 사용한다."
      ]
    },
    {
      "cell_type": "markdown",
      "metadata": {
        "id": "Ca3tx_38Af2p"
      },
      "source": [
        "**문제 1**"
      ]
    },
    {
      "cell_type": "markdown",
      "metadata": {
        "id": "2pFNJnILAf2p"
      },
      "source": [
        "`fruits` 변수가 아래와 같이 과일 이름으로 구성된 문자열을 가리킨다."
      ]
    },
    {
      "cell_type": "code",
      "execution_count": 11,
      "metadata": {
        "id": "LrEemhNnAf2p"
      },
      "outputs": [],
      "source": [
        "fruits = \"banana apple orange pineapple mango strawberry cherry\""
      ]
    },
    {
      "cell_type": "markdown",
      "metadata": {
        "id": "gJEsPAIQAf2q"
      },
      "source": [
        "`fruits` 변수를 이용하여 아래 문자열을 생성하는 코드를 작성하라.\n",
        "\n",
        "```\n",
        "Banana, Apple, Orange, Pineapple, Mango, Strawberry, Cherry\n",
        "```\n",
        "힌트: 문자열 `split()`, `title()`, `join()` 메서드 활용"
      ]
    },
    {
      "cell_type": "code",
      "execution_count": 15,
      "metadata": {
        "colab": {
          "base_uri": "https://localhost:8080/",
          "height": 35
        },
        "id": "ehdzCbDPAf2q",
        "outputId": "98a8d56c-3711-45e0-9147-bd9cfcb637b2"
      },
      "outputs": [
        {
          "output_type": "execute_result",
          "data": {
            "text/plain": [
              "'Banana, Apple, Orange, Pineapple, Mango, Strawberry, Cherry'"
            ],
            "application/vnd.google.colaboratory.intrinsic+json": {
              "type": "string"
            }
          },
          "metadata": {},
          "execution_count": 15
        }
      ],
      "source": [
        "# 코드를 작성한다.\n",
        "# 필요하면 코드셀 또는 텍스트셀을 추가할 수 있습니다.\n",
        "\n",
        "\", \".join(fruits.title().split(\" \"))"
      ]
    },
    {
      "cell_type": "markdown",
      "metadata": {
        "id": "IcDLJ65TAf2q"
      },
      "source": [
        "**문제 2**"
      ]
    },
    {
      "cell_type": "markdown",
      "metadata": {
        "id": "hRhuRJm9Af2q"
      },
      "source": [
        "아래 `current_time` 변수는 시각을 서양식으로 표현된 문자열을 가리킨다."
      ]
    },
    {
      "cell_type": "code",
      "execution_count": 16,
      "metadata": {
        "id": "aQgkW-U5Af2q"
      },
      "outputs": [],
      "source": [
        "current_time = 'Fri Mar 21, 2025'"
      ]
    },
    {
      "cell_type": "markdown",
      "metadata": {
        "id": "sgTF6dMMAf2r"
      },
      "source": [
        "`current_time` 변수가 가리키는 문자열을 한국식, 즉 다음과 같이 출력하는 코드를 작성한다.\n",
        "\n",
        "```python\n",
        "날짜: 2025년 3월 21일 금요일\n",
        "```\n",
        "\n",
        "단, 아래 코드에서 선언된 세 개의 변수와 `split()` 메서드, f-문자열을 반드시 활용한다."
      ]
    },
    {
      "cell_type": "code",
      "execution_count": 17,
      "metadata": {
        "id": "q9dUxNgFAf2r"
      },
      "outputs": [],
      "source": [
        "weekdays_en = ['Sun', 'Mon', 'Tue', 'Wed', 'Thu', 'Fri', 'Sat']\n",
        "weekdays_kr = ['일', '월', '화', '수', '목', '금', '토']\n",
        "months_en = ['Jan', 'Feb', 'Mar', 'Apr', 'May', 'Jun', 'Jul', 'Aug', 'Sep', 'Oct', 'Nov', 'Dec']"
      ]
    },
    {
      "cell_type": "code",
      "execution_count": 29,
      "metadata": {
        "colab": {
          "base_uri": "https://localhost:8080/"
        },
        "id": "aJOobbGGAf2r",
        "outputId": "19f15e6c-a86e-47c7-e11e-1a04cc2785e5"
      },
      "outputs": [
        {
          "output_type": "stream",
          "name": "stdout",
          "text": [
            "날짜: 2025년 3월 21일 금요일\n"
          ]
        }
      ],
      "source": [
        "# 코드를 작성한다.\n",
        "# 필요하면 코드셀 또는 텍스트셀을 추가할 수 있습니다.\n",
        "\n",
        "year=current_time.split()[3]\n",
        "months_num=months_en.index(current_time.split()[1])\n",
        "months=months_num+1\n",
        "days=current_time.split()[2].strip(\",\")\n",
        "weekdays=\"\".join(weekdays_kr)[weekdays_en.index(current_time.split()[0])]\n",
        "\n",
        "print(f\"날짜: {year}년 {months}월 {days}일 {weekdays}요일\")"
      ]
    },
    {
      "cell_type": "markdown",
      "metadata": {
        "id": "DxwBYD7NAf2r"
      },
      "source": [
        "**문제 3**"
      ]
    },
    {
      "cell_type": "markdown",
      "metadata": {
        "id": "b9d29417"
      },
      "source": [
        "변수와 함수의 이름을 지정할 때 **낙타**<font size = \"2\">camel</font> 표기법 또는\n",
        "**팟홀**<font size=\"2\">pothole</font> 표기법을 사용한다.\n",
        "\n",
        "* 낙타 표기법: 소문자로 시작하고, 이어지는 단어의 시작은 대문자로 작성하는 표기법.\n",
        "* 팟홀 표기법: 모두 소문자를 사용하고, 단어 사이에 밑줄기호(`_`)를 사용하는 표기법."
      ]
    },
    {
      "cell_type": "markdown",
      "metadata": {
        "id": "mLqalrSPAf2r"
      },
      "source": [
        "활용 예제는 다음과 같다.\n",
        "\n",
        "- 낙타 표기법 예제: `userName`, `printMessage`, `countA` 등.\n",
        "- 팟홀 표기법 예제: `user_name`, `print_message`, `count_a` 등.   "
      ]
    },
    {
      "cell_type": "markdown",
      "metadata": {
        "id": "OEC1yTbWAf2r"
      },
      "source": [
        "아래에 팟홀 표기법을 사용하는 문자열을 지정한다."
      ]
    },
    {
      "cell_type": "code",
      "execution_count": 32,
      "metadata": {
        "id": "ulbCTnf1Af2r"
      },
      "outputs": [],
      "source": [
        "counting = 'one_two_three'"
      ]
    },
    {
      "cell_type": "markdown",
      "metadata": {
        "id": "JK4evUwvAf2r"
      },
      "source": [
        "위 문자열을 활용하여 낙타 표기법을 사용하는 문자열을 생성하라.\n",
        "단 모든 단어의 첫글짜는 다음과 같이 대문자로 시작해야 한다.\n",
        "\n",
        "```\n",
        "OneTwoThree\n",
        "```"
      ]
    },
    {
      "cell_type": "markdown",
      "metadata": {
        "id": "QCy_T3tc6QPI"
      },
      "source": [
        "힌트: `split()`, `join()`, `title()` 메서드 활용"
      ]
    },
    {
      "cell_type": "code",
      "execution_count": 33,
      "metadata": {
        "colab": {
          "base_uri": "https://localhost:8080/",
          "height": 35
        },
        "id": "7UChI8wwAf2r",
        "outputId": "39898ffa-2a4b-463b-f771-abd25d2c16ad"
      },
      "outputs": [
        {
          "output_type": "execute_result",
          "data": {
            "text/plain": [
              "'OneTwoThree'"
            ],
            "application/vnd.google.colaboratory.intrinsic+json": {
              "type": "string"
            }
          },
          "metadata": {},
          "execution_count": 33
        }
      ],
      "source": [
        "# 코드를 작성한다.\n",
        "# 필요하면 코드셀 또는 텍스트셀을 추가할 수 있습니다.\n",
        "\n",
        "\"\".join(counting.title().split(\"_\"))"
      ]
    },
    {
      "cell_type": "markdown",
      "metadata": {
        "id": "Wf5NSC6DSSky"
      },
      "source": [
        "**예제 4**"
      ]
    },
    {
      "cell_type": "markdown",
      "metadata": {
        "id": "bD_HDNHe6QPM"
      },
      "source": [
        "**어구전철**<font size='2'>anagram</font>은 주어진 단어에 사용된 철자의 순서를 변경해서 생성되는 단어를 가리킨다.\n",
        "예를 들어 \"python\"과 \"thpyon\" 서로 어구전철 관계다.\n",
        "\n",
        "`'happ y'`와 `' ypp ah'` 두 문자열에 대해 공백을 무시하면서 어구전철 여부를 판단하는 코드를 작성하라."
      ]
    },
    {
      "cell_type": "code",
      "execution_count": 37,
      "metadata": {
        "colab": {
          "base_uri": "https://localhost:8080/"
        },
        "id": "VtOvNGiDAf2s",
        "outputId": "c034b425-4d29-4415-ead4-a5547aafacf1"
      },
      "outputs": [
        {
          "output_type": "execute_result",
          "data": {
            "text/plain": [
              "True"
            ]
          },
          "metadata": {},
          "execution_count": 37
        }
      ],
      "source": [
        "# 코드를 작성한다.\n",
        "# 필요하면 코드셀 또는 텍스트셀을 추가할 수 있습니다.\n",
        "\n",
        "happy=\"happ y\"\n",
        "yppah=\" ypp ah\"\n",
        "\n",
        "sorted(\"\".join(happy.split()))==sorted(\"\".join(yppah.split()))"
      ]
    },
    {
      "cell_type": "markdown",
      "metadata": {
        "id": "lAL8DePVAf2s"
      },
      "source": [
        "**예제 5**"
      ]
    },
    {
      "cell_type": "markdown",
      "metadata": {
        "id": "C3FomUWr6QPO"
      },
      "source": [
        "'기러기', '토마토', '우영우', '인싸 의사의 싸인', 'bob', 'eye', 'pop'와 같이\n",
        "앞으로 읽어도, 뒤로 읽어도 동일한 문자열을 **회문**<font size='2'>palindrome</font>이라 부른다.\n",
        "\n",
        "아래 문자열에서 공백 뿐만 아니라 알파벳 대소문자 여부도 무시할 때 회문이 됨을 보이는 코드를 작성하라.\n",
        "\n",
        "힌트: 문자열 `lower()` 메서드,  문자열 슬라이싱 활용"
      ]
    },
    {
      "cell_type": "code",
      "execution_count": 38,
      "metadata": {
        "id": "A22Z1-MLAf2s"
      },
      "outputs": [],
      "source": [
        "word = 'A man a plan a canal Panama'"
      ]
    },
    {
      "cell_type": "code",
      "execution_count": 41,
      "metadata": {
        "colab": {
          "base_uri": "https://localhost:8080/"
        },
        "id": "YPRdrQhUAf2s",
        "outputId": "378d1e09-26dc-42ec-f19b-5a93df518b6a"
      },
      "outputs": [
        {
          "output_type": "execute_result",
          "data": {
            "text/plain": [
              "True"
            ]
          },
          "metadata": {},
          "execution_count": 41
        }
      ],
      "source": [
        "# 코드를 작성한다.\n",
        "# 필요하면 코드셀 또는 텍스트셀을 추가할 수 있습니다.\n",
        "\n",
        "word=\"\".join(word.lower().split())\n",
        "word==word[::-1]"
      ]
    },
    {
      "cell_type": "markdown",
      "metadata": {
        "id": "JvZY6jGzAf2s"
      },
      "source": [
        "**문제 6**"
      ]
    },
    {
      "cell_type": "markdown",
      "metadata": {
        "id": "NfF_bo79Af2s"
      },
      "source": [
        "영어 소문자 알파벳은 총 26개이다.\n",
        "`a`, `b`, `c`, ..., `x`, `y`, `z` 각각의 알파벳을 13칸씩 오른쪽으로 이동시키면 다음과 같은 대응 관계가 성립니다.\n",
        "\n",
        "\n",
        "```\n",
        "a => n\n",
        "b => o\n",
        "c => p\n",
        "...\n",
        "x => k\n",
        "y => l\n",
        "z => m\n",
        "```"
      ]
    },
    {
      "cell_type": "markdown",
      "metadata": {
        "id": "seqHnbK6Af2s"
      },
      "source": [
        "(1) 변수 `alphabet`가 `'c'`를 가리키도록 하자."
      ]
    },
    {
      "cell_type": "code",
      "execution_count": 2,
      "metadata": {
        "id": "9PUCQnSfAf2s"
      },
      "outputs": [],
      "source": [
        "alphabet = 'c'"
      ]
    },
    {
      "cell_type": "markdown",
      "metadata": {
        "id": "BIyFFYjTAf2s"
      },
      "source": [
        "`ord()` 함수와 `chr()` 함수를 이용하여 변수 `alphabet`이 가리키는 값이 대문자 `'Z'`가 되도록 하라."
      ]
    },
    {
      "cell_type": "markdown",
      "metadata": {
        "id": "oNhZGUlaAf2s"
      },
      "source": [
        "힌트: [문자열 2부](file:///C:/Users/gslee/Documents/GitHub/42H/jupyter-book/_build/html/strings_part2.html)의 예제 참고"
      ]
    },
    {
      "cell_type": "code",
      "execution_count": 3,
      "metadata": {
        "colab": {
          "base_uri": "https://localhost:8080/",
          "height": 35
        },
        "id": "h_1_W1IlAf2s",
        "outputId": "54e4c4a7-79dd-4432-fb73-2300d910acdf"
      },
      "outputs": [
        {
          "output_type": "execute_result",
          "data": {
            "text/plain": [
              "'Z'"
            ],
            "application/vnd.google.colaboratory.intrinsic+json": {
              "type": "string"
            }
          },
          "metadata": {},
          "execution_count": 3
        }
      ],
      "source": [
        "# 코드를 작성한다.\n",
        "# 필요하면 코드셀 또는 텍스트셀을 추가할 수 있습니다.\n",
        "\n",
        "chr(ord(alphabet)+23).upper()"
      ]
    },
    {
      "cell_type": "markdown",
      "metadata": {
        "id": "qPiucKBMAf2s"
      },
      "source": [
        "(2) 변수 `char`가 `'x'`를 가리키도록 하자."
      ]
    },
    {
      "cell_type": "code",
      "execution_count": 44,
      "metadata": {
        "id": "DmqTr8IDAf2s"
      },
      "outputs": [],
      "source": [
        "alphabet = 'x'"
      ]
    },
    {
      "cell_type": "markdown",
      "metadata": {
        "id": "vlRv5L46Af2s"
      },
      "source": [
        "`ord()` 함수와 `chr()` 함수를 이용하여 변수 `alphabet`가 가리키는 값이 대문자 `'K'`가 되도록 하라."
      ]
    },
    {
      "cell_type": "code",
      "execution_count": 48,
      "metadata": {
        "colab": {
          "base_uri": "https://localhost:8080/",
          "height": 35
        },
        "id": "vK_FcKLlAf2s",
        "outputId": "2090292e-163e-43de-b62f-00b01db31888"
      },
      "outputs": [
        {
          "output_type": "execute_result",
          "data": {
            "text/plain": [
              "'K'"
            ],
            "application/vnd.google.colaboratory.intrinsic+json": {
              "type": "string"
            }
          },
          "metadata": {},
          "execution_count": 48
        }
      ],
      "source": [
        "# 코드를 작성한다.\n",
        "# 필요하면 코드셀 또는 텍스트셀을 추가할 수 있습니다.\n",
        "\n",
        "chr(ord(alphabet)-13).upper()"
      ]
    }
  ],
  "metadata": {
    "colab": {
      "name": "실습답안3.ipynb",
      "provenance": []
    },
    "kernelspec": {
      "display_name": "Python 3 (ipykernel)",
      "language": "python",
      "name": "python3"
    },
    "language_info": {
      "codemirror_mode": {
        "name": "ipython",
        "version": 3
      },
      "file_extension": ".py",
      "mimetype": "text/x-python",
      "name": "python",
      "nbconvert_exporter": "python",
      "pygments_lexer": "ipython3",
      "version": "3.12.7"
    }
  },
  "nbformat": 4,
  "nbformat_minor": 0
}