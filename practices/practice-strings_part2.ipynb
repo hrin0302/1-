{
  "cells": [
    {
      "cell_type": "markdown",
      "metadata": {
        "id": "VAwn6jqDPtTK"
      },
      "source": [
        "# (연습) 문자열  2부"
      ]
    },
    {
      "cell_type": "markdown",
      "metadata": {
        "id": "MgBCG_zE0A9f"
      },
      "source": [
        "**주의 사항**\n",
        "\n",
        "* 기존에 작성된 코드 셀과 텍스트 셀은 수정하지 않는다.\n",
        "* 필요한 경우 코드 셀 또는 텍스트 셀을 추가해서 사용한다."
      ]
    },
    {
      "cell_type": "markdown",
      "metadata": {
        "id": "yLgGtSewPtTO"
      },
      "source": [
        "**문제 1**"
      ]
    },
    {
      "cell_type": "markdown",
      "metadata": {
        "id": "eSeHRjT3PtTO"
      },
      "source": [
        "`fruits` 변수가 아래와 같이 과일 이름으로 구성된 문자열을 가리킨다."
      ]
    },
    {
      "cell_type": "code",
      "execution_count": null,
      "metadata": {
        "id": "CBAuVB0kPtTO"
      },
      "outputs": [],
      "source": [
        "fruits = \"banana apple orange pineapple mango strawberry cherry\""
      ]
    },
    {
      "cell_type": "markdown",
      "metadata": {
        "id": "M2hd1QuyPtTP"
      },
      "source": [
        "`fruits` 변수를 이용하여 아래 문자열을 생성하는 코드를 작성하라.\n",
        "\n",
        "```\n",
        "Banana, Apple, Orange, Pineapple, Mango, Strawberry, Cherry\n",
        "```\n",
        "힌트: 문자열 `split()`, `title()`, `join()` 메서드 활용"
      ]
    },
    {
      "cell_type": "code",
      "execution_count": null,
      "metadata": {
        "id": "0rsf5d2TPtTP"
      },
      "outputs": [],
      "source": [
        "# 코드를 작성한다.\n",
        "# 필요하면 코드셀 또는 텍스트셀을 추가할 수 있습니다.\n"
      ]
    },
    {
      "cell_type": "markdown",
      "metadata": {
        "id": "ywqXIaw9PtTP"
      },
      "source": [
        "**문제 2**"
      ]
    },
    {
      "cell_type": "markdown",
      "metadata": {
        "id": "3fo6l4ptPtTP"
      },
      "source": [
        "아래 `current_time` 변수는 시각을 서양식으로 표현된 문자열을 가리킨다."
      ]
    },
    {
      "cell_type": "code",
      "execution_count": null,
      "metadata": {
        "id": "wvU2sdFtPtTP"
      },
      "outputs": [],
      "source": [
        "current_time = 'Fri Mar 21, 2025'"
      ]
    },
    {
      "cell_type": "markdown",
      "metadata": {
        "id": "2t60sPnePtTQ"
      },
      "source": [
        "`current_time` 변수가 가리키는 문자열을 한국식, 즉 다음과 같이 출력하는 코드를 작성한다.\n",
        "\n",
        "```python\n",
        "날짜: 2025년 3월 21일 금요일\n",
        "```\n",
        "\n",
        "단, 아래 코드에서 선언된 세 개의 변수와 `split()` 메서드, f-문자열을 반드시 활용한다."
      ]
    },
    {
      "cell_type": "code",
      "execution_count": null,
      "metadata": {
        "id": "YSUAk-1mPtTQ"
      },
      "outputs": [],
      "source": [
        "weekdays_en = ['Sun', 'Mon', 'Tue', 'Wed', 'Thu', 'Fri', 'Sat']\n",
        "weekdays_kr = ['일', '월', '화', '수', '목', '금', '토']\n",
        "months_en = ['Jan', 'Feb', 'Mar', 'Apr', 'May', 'Jun', 'Jul', 'Aug', 'Sep', 'Oct', 'Nov', 'Dec']"
      ]
    },
    {
      "cell_type": "code",
      "execution_count": null,
      "metadata": {
        "id": "RZCP7Y49PtTQ"
      },
      "outputs": [],
      "source": [
        "# 코드를 작성한다.\n",
        "# 필요하면 코드셀 또는 텍스트셀을 추가할 수 있습니다.\n"
      ]
    },
    {
      "cell_type": "markdown",
      "metadata": {
        "id": "lNOMg2ILPtTQ"
      },
      "source": [
        "**문제 3**"
      ]
    },
    {
      "cell_type": "markdown",
      "metadata": {
        "id": "b9d29417"
      },
      "source": [
        "변수와 함수의 이름을 지정할 때 **낙타**<font size = \"2\">camel</font> 표기법 또는\n",
        "**팟홀**<font size=\"2\">pothole</font> 표기법을 사용한다.\n",
        "\n",
        "* 낙타 표기법: 소문자로 시작하고, 이어지는 단어의 시작은 대문자로 작성하는 표기법.\n",
        "* 팟홀 표기법: 모두 소문자를 사용하고, 단어 사이에 밑줄기호(`_`)를 사용하는 표기법."
      ]
    },
    {
      "cell_type": "markdown",
      "metadata": {
        "id": "WlbTi1fPPtTR"
      },
      "source": [
        "활용 예제는 다음과 같다.\n",
        "\n",
        "- 낙타 표기법 예제: `userName`, `printMessage`, `countA` 등.\n",
        "- 팟홀 표기법 예제: `user_name`, `print_message`, `count_a` 등.   "
      ]
    },
    {
      "cell_type": "markdown",
      "metadata": {
        "id": "NObxux34PtTR"
      },
      "source": [
        "아래에 팟홀 표기법을 사용하는 문자열을 지정한다."
      ]
    },
    {
      "cell_type": "code",
      "execution_count": null,
      "metadata": {
        "id": "c-8uNMyWPtTR"
      },
      "outputs": [],
      "source": [
        "counting = 'one_two_three'"
      ]
    },
    {
      "cell_type": "markdown",
      "metadata": {
        "id": "9srXcnQWPtTR"
      },
      "source": [
        "위 문자열을 활용하여 낙타 표기법을 사용하는 문자열을 생성하라.\n",
        "단 모든 단어의 첫글짜는 다음과 같이 대문자로 시작해야 한다.\n",
        "\n",
        "```\n",
        "OneTwoThree\n",
        "```"
      ]
    },
    {
      "cell_type": "markdown",
      "metadata": {
        "id": "QCy_T3tc6QPI"
      },
      "source": [
        "힌트: `split()`, `join()`, `title()` 메서드 활용"
      ]
    },
    {
      "cell_type": "code",
      "execution_count": null,
      "metadata": {
        "id": "IGn2h2nwPtTS"
      },
      "outputs": [],
      "source": [
        "# 코드를 작성한다.\n",
        "# 필요하면 코드셀 또는 텍스트셀을 추가할 수 있습니다.\n"
      ]
    },
    {
      "cell_type": "markdown",
      "metadata": {
        "id": "Wf5NSC6DSSky"
      },
      "source": [
        "**예제 4**"
      ]
    },
    {
      "cell_type": "markdown",
      "metadata": {
        "id": "bD_HDNHe6QPM"
      },
      "source": [
        "**어구전철**<font size='2'>anagram</font>은 주어진 단어에 사용된 철자의 순서를 변경해서 생성되는 단어를 가리킨다.\n",
        "예를 들어 \"python\"과 \"thpyon\" 서로 어구전철 관계다.\n",
        "\n",
        "`'happ y'`와 `' ypp ah'` 두 문자열에 대해 공백을 무시하면서 어구전철 여부를 판단하는 코드를 작성하라."
      ]
    },
    {
      "cell_type": "code",
      "execution_count": null,
      "metadata": {
        "id": "t96EqmOQPtTS"
      },
      "outputs": [],
      "source": [
        "# 코드를 작성한다.\n",
        "# 필요하면 코드셀 또는 텍스트셀을 추가할 수 있습니다.\n"
      ]
    },
    {
      "cell_type": "markdown",
      "metadata": {
        "id": "ctGQ5KlDPtTT"
      },
      "source": [
        "**예제 5**"
      ]
    },
    {
      "cell_type": "markdown",
      "metadata": {
        "id": "C3FomUWr6QPO"
      },
      "source": [
        "'기러기', '토마토', '우영우', '인싸 의사의 싸인', 'bob', 'eye', 'pop'와 같이\n",
        "앞으로 읽어도, 뒤로 읽어도 동일한 문자열을 **회문**<font size='2'>palindrome</font>이라 부른다.\n",
        "\n",
        "아래 문자열에서 공백 뿐만 아니라 알파벳 대소문자 여부도 무시할 때 회문이 됨을 보이는 코드를 작성하라.\n",
        "\n",
        "힌트: 문자열 `lower()` 메서드,  문자열 슬라이싱 활용"
      ]
    },
    {
      "cell_type": "code",
      "execution_count": null,
      "metadata": {
        "id": "n4OAiINlPtTT"
      },
      "outputs": [],
      "source": [
        "word = 'A man a plan a canal Panama'"
      ]
    },
    {
      "cell_type": "code",
      "execution_count": null,
      "metadata": {
        "id": "fWNjwH3PPtTT"
      },
      "outputs": [],
      "source": [
        "# 코드를 작성한다.\n",
        "# 필요하면 코드셀 또는 텍스트셀을 추가할 수 있습니다.\n"
      ]
    },
    {
      "cell_type": "markdown",
      "metadata": {
        "id": "1wWYvU5ZPtTT"
      },
      "source": [
        "**문제 6**"
      ]
    },
    {
      "cell_type": "markdown",
      "metadata": {
        "id": "cakqBIf7PtTT"
      },
      "source": [
        "영어 소문자 알파벳은 총 26개이다.\n",
        "`a`, `b`, `c`, ..., `x`, `y`, `z` 각각의 알파벳을 13칸씩 오른쪽으로 이동시키면 다음과 같은 대응 관계가 성립니다.\n",
        "\n",
        "\n",
        "```\n",
        "a => n\n",
        "b => o\n",
        "c => p\n",
        "...\n",
        "x => k\n",
        "y => l\n",
        "z => m\n",
        "```"
      ]
    },
    {
      "cell_type": "markdown",
      "metadata": {
        "id": "TLw1HWsGPtTT"
      },
      "source": [
        "(1) 변수 `alphabet`가 `'c'`를 가리키도록 하자."
      ]
    },
    {
      "cell_type": "code",
      "execution_count": null,
      "metadata": {
        "id": "BNc2yHsaPtTT"
      },
      "outputs": [],
      "source": [
        "alphabet = 'c'"
      ]
    },
    {
      "cell_type": "markdown",
      "metadata": {
        "id": "FypivG10PtTT"
      },
      "source": [
        "`ord()` 함수와 `chr()` 함수를 이용하여 변수 `alphabet`이 가리키는 값이 대문자 `'Z'`가 되도록 하라."
      ]
    },
    {
      "cell_type": "markdown",
      "metadata": {
        "id": "jzERD2RiPtTT"
      },
      "source": [
        "힌트: [문자열 2부](file:///C:/Users/gslee/Documents/GitHub/42H/jupyter-book/_build/html/strings_part2.html)의 예제 참고"
      ]
    },
    {
      "cell_type": "code",
      "execution_count": null,
      "metadata": {
        "id": "-XQJPE29PtTT"
      },
      "outputs": [],
      "source": [
        "# 코드를 작성한다.\n",
        "# 필요하면 코드셀 또는 텍스트셀을 추가할 수 있습니다.\n"
      ]
    },
    {
      "cell_type": "markdown",
      "metadata": {
        "id": "v9eZ3BxxPtTU"
      },
      "source": [
        "(2) 변수 `char`가 `'x'`를 가리키도록 하자."
      ]
    },
    {
      "cell_type": "code",
      "execution_count": null,
      "metadata": {
        "id": "KsQZEZkVPtTU"
      },
      "outputs": [],
      "source": [
        "alphabet = 'x'"
      ]
    },
    {
      "cell_type": "markdown",
      "metadata": {
        "id": "nthIvF8lPtTU"
      },
      "source": [
        "`ord()` 함수와 `chr()` 함수를 이용하여 변수 `alphabet`가 가리키는 값이 대문자 `'K'`가 되도록 하라."
      ]
    },
    {
      "cell_type": "code",
      "execution_count": null,
      "metadata": {
        "id": "IO3ES0hFPtTU"
      },
      "outputs": [],
      "source": [
        "# 코드를 작성한다.\n",
        "# 필요하면 코드셀 또는 텍스트셀을 추가할 수 있습니다.\n"
      ]
    },
    {
      "cell_type": "markdown",
      "metadata": {
        "id": "7BlNF21iPtTW"
      },
      "source": [
        "**문제 7**"
      ]
    },
    {
      "cell_type": "markdown",
      "metadata": {
        "id": "Z0r3cWXVPtTX"
      },
      "source": [
        "다음과 같이 영어 알파벳으로 구성된 문자열이 주어졌다."
      ]
    },
    {
      "cell_type": "code",
      "execution_count": 2,
      "metadata": {
        "id": "2Nto3NDdPtTX"
      },
      "outputs": [],
      "source": [
        "text = \"python data analysis\""
      ]
    },
    {
      "cell_type": "markdown",
      "metadata": {
        "id": "NZ3-sgy7PtTX"
      },
      "source": [
        "(1) 문자열에 포함된 모음의 개수를 확인하는 코드를 작성하려 한다.\n",
        "단, 모음 알파벳은 아래 문자열에 포함되어 있다."
      ]
    },
    {
      "cell_type": "code",
      "execution_count": 3,
      "metadata": {
        "id": "vCNy2I0MPtTX"
      },
      "outputs": [],
      "source": [
        "vowels='AEIOUaeiou'"
      ]
    },
    {
      "cell_type": "markdown",
      "metadata": {
        "id": "nYOdeo9BPtTX"
      },
      "source": [
        "예를 들어 다음과 같이 `for` 반복문을 이용할 수 있다."
      ]
    },
    {
      "cell_type": "code",
      "execution_count": 4,
      "metadata": {
        "colab": {
          "base_uri": "https://localhost:8080/"
        },
        "id": "fV7zEC_4PtTX",
        "outputId": "71ad9ef0-68e5-4448-8579-6424b38bddf4"
      },
      "outputs": [
        {
          "output_type": "stream",
          "name": "stdout",
          "text": [
            "모음 개수: 6\n"
          ]
        }
      ],
      "source": [
        "count_vowels = 0\n",
        "for char in text:\n",
        "    if char in vowels:\n",
        "        count_vowels += 1\n",
        "\n",
        "print(\"모음 개수:\", count_vowels)"
      ]
    },
    {
      "cell_type": "markdown",
      "metadata": {
        "id": "lLjR1Rt1PtTX"
      },
      "source": [
        "`continue` 명령문을 사용하여 위 코드를 수정하라.\n",
        "단 동일한 결과가 나와야 한다."
      ]
    },
    {
      "cell_type": "code",
      "execution_count": 5,
      "metadata": {
        "colab": {
          "base_uri": "https://localhost:8080/"
        },
        "id": "X5znN1ixPtTX",
        "outputId": "2caaa2db-8bfc-44b2-fe22-087a21415891"
      },
      "outputs": [
        {
          "output_type": "stream",
          "name": "stdout",
          "text": [
            "모음 개수: 6\n"
          ]
        }
      ],
      "source": [
        "# 코드를 작성한다.\n",
        "# 필요하면 코드셀 또는 텍스트셀을 추가할 수 있습니다.\n",
        "\n",
        "count_vowels=0\n",
        "for char in text:\n",
        "  if char not in vowels:\n",
        "    continue\n",
        "  count_vowels+=1\n",
        "print(\"모음 개수:\", count_vowels)"
      ]
    },
    {
      "cell_type": "markdown",
      "metadata": {
        "id": "dfyylGt4PtTX"
      },
      "source": [
        "(2) 문자열에 포함된 자음의 개수를 확인하는 코드를 작성하려 한다."
      ]
    },
    {
      "cell_type": "markdown",
      "metadata": {
        "id": "02TUzitxPtTX"
      },
      "source": [
        "`text` 문자열은 공백을 포함하는데, 공백은 알파벳이 아니다.\n",
        "따라서 모음과는 달리 자음만 추출하려면 공백도 제외시켜야 한다.\n",
        "이를 위해 문자열이 영어 26개의 알파벳으로만 구성되었는지 여부를 판정하는 `isalpha()`\n",
        "문자열 메서드를 이용한다."
      ]
    },
    {
      "cell_type": "code",
      "execution_count": 6,
      "metadata": {
        "colab": {
          "base_uri": "https://localhost:8080/"
        },
        "id": "1QYjZUzPPtTX",
        "outputId": "8cc30bab-86d1-45b3-b13d-d00714157ccf"
      },
      "outputs": [
        {
          "output_type": "execute_result",
          "data": {
            "text/plain": [
              "True"
            ]
          },
          "metadata": {},
          "execution_count": 6
        }
      ],
      "source": [
        "'a'.isalpha()"
      ]
    },
    {
      "cell_type": "code",
      "execution_count": 7,
      "metadata": {
        "colab": {
          "base_uri": "https://localhost:8080/"
        },
        "id": "LXWy1kiyPtTX",
        "outputId": "9b1a3f8c-e549-42f8-fa74-6481d93ac0a1"
      },
      "outputs": [
        {
          "output_type": "execute_result",
          "data": {
            "text/plain": [
              "True"
            ]
          },
          "metadata": {},
          "execution_count": 7
        }
      ],
      "source": [
        "'ab'.isalpha()"
      ]
    },
    {
      "cell_type": "code",
      "execution_count": 8,
      "metadata": {
        "colab": {
          "base_uri": "https://localhost:8080/"
        },
        "id": "Jfez-gbMPtTY",
        "outputId": "5a0b6c11-8325-40bc-c337-b928a30f76e1"
      },
      "outputs": [
        {
          "output_type": "execute_result",
          "data": {
            "text/plain": [
              "False"
            ]
          },
          "metadata": {},
          "execution_count": 8
        }
      ],
      "source": [
        "'ab3'.isalpha()"
      ]
    },
    {
      "cell_type": "markdown",
      "metadata": {
        "id": "fbp7o7B5PtTY"
      },
      "source": [
        "아래 코드는 주어진 영어 문장 `text`에 대해 모음이 아닌 알파벳이 사용된 횟수를\n",
        "`for` 반복문을 이용하여 계산한다.\n",
        "`isalpha()` 메서드를 이용하여 모음이 아니면서 영어 알파벳인 경우일 때만 `count_consonant` 값이 업데이트됨에 주의한다."
      ]
    },
    {
      "cell_type": "code",
      "execution_count": 11,
      "metadata": {
        "colab": {
          "base_uri": "https://localhost:8080/"
        },
        "id": "Sy9krJmWPtTY",
        "outputId": "0c8f0048-3cae-45ac-d271-fb810ba2aa2d"
      },
      "outputs": [
        {
          "output_type": "stream",
          "name": "stdout",
          "text": [
            "자음 개수: 12\n"
          ]
        }
      ],
      "source": [
        "count_consonant = 0\n",
        "for char in text:\n",
        "    if (char not in vowels) and char.isalpha():\n",
        "        count_consonant += 1\n",
        "\n",
        "print(\"자음 개수:\", count_consonant)"
      ]
    },
    {
      "cell_type": "markdown",
      "metadata": {
        "id": "kbLkMMc3PtTY"
      },
      "source": [
        "`continue` 명령문을 사용하도록 위 코드를 수정하라."
      ]
    },
    {
      "cell_type": "code",
      "execution_count": 12,
      "metadata": {
        "colab": {
          "base_uri": "https://localhost:8080/"
        },
        "id": "XagCmT9SPtTY",
        "outputId": "3be17d94-e8c3-4a19-ad00-04eeaf2f8c46"
      },
      "outputs": [
        {
          "output_type": "stream",
          "name": "stdout",
          "text": [
            "자음 개수: 12\n"
          ]
        }
      ],
      "source": [
        "# 코드를 작성한다.\n",
        "# 필요하면 코드셀 또는 텍스트셀을 추가할 수 있습니다.\n",
        "\n",
        "count_consonant=0\n",
        "for char in text:\n",
        "  if char in vowels or not char.isalpha():\n",
        "    continue\n",
        "  count_consonant+=1\n",
        "print(\"자음 개수:\", count_consonant)"
      ]
    },
    {
      "cell_type": "markdown",
      "metadata": {
        "id": "WqlPmJwGPtTY"
      },
      "source": [
        "**문제 8**"
      ]
    },
    {
      "cell_type": "markdown",
      "metadata": {
        "id": "6fzZyKGEPtTY"
      },
      "source": [
        "두 개의 문자열이 다음과 같이 주어졌다."
      ]
    },
    {
      "cell_type": "code",
      "execution_count": 13,
      "metadata": {
        "id": "j3CNsNd4PtTY"
      },
      "outputs": [],
      "source": [
        "string = \"PythonForPythonForPythonForPythonForPython\"\n",
        "substring = \"ForPythonFor\""
      ]
    },
    {
      "cell_type": "markdown",
      "metadata": {
        "id": "jSkD3wx8PtTZ"
      },
      "source": [
        "이때 `substring`이 `string`에 사용된 횟수는 두 번으로 확인된다."
      ]
    },
    {
      "cell_type": "code",
      "execution_count": 14,
      "metadata": {
        "colab": {
          "base_uri": "https://localhost:8080/"
        },
        "id": "8dBBLAvmPtTZ",
        "outputId": "b9c3e354-5daa-4a3e-a380-018154a461c3"
      },
      "outputs": [
        {
          "output_type": "execute_result",
          "data": {
            "text/plain": [
              "2"
            ]
          },
          "metadata": {},
          "execution_count": 14
        }
      ],
      "source": [
        "string.count(substring)"
      ]
    },
    {
      "cell_type": "markdown",
      "metadata": {
        "id": "MxqTVizOPtTZ"
      },
      "source": [
        "이유는 `count()` 메서드는 지정된 문자열이 겹쳐지지 않는 경우만 확인하기 때문이다."
      ]
    },
    {
      "cell_type": "markdown",
      "metadata": {
        "id": "Eo53UmXaPtTZ"
      },
      "source": [
        "(1) `substring`이 겹쳐지는 것도 허용하면서 사용된 횟수를 확인하면 3번이다.\n",
        "이 사실을 확인하는 코드를 `for` 반복문을 이용하여 작성하라.\n",
        "\n",
        "힌트: 문자열 슬라이싱 활용"
      ]
    },
    {
      "cell_type": "code",
      "execution_count": 39,
      "metadata": {
        "colab": {
          "base_uri": "https://localhost:8080/"
        },
        "id": "P_VZ4fJ7PtTZ",
        "outputId": "e72df9d0-7590-48b4-801d-0f8b5ebcb1d8"
      },
      "outputs": [
        {
          "output_type": "stream",
          "name": "stdout",
          "text": [
            "3\n"
          ]
        }
      ],
      "source": [
        "# 코드를 작성한다.\n",
        "# 필요하면 코드셀 또는 텍스트셀을 추가할 수 있습니다.\n",
        "\n",
        "sub=0\n",
        "pos=0\n",
        "\n",
        "for char in string:\n",
        "  pos+=1\n",
        "  if string[pos:pos+len(substring)]==substring:\n",
        "    sub+=1\n",
        "print(sub)\n"
      ]
    },
    {
      "cell_type": "markdown",
      "metadata": {
        "id": "GzVT2SnJPtTZ"
      },
      "source": [
        "(2) 위 코드를 아래 조건이 만족되도록 수정하라.\n",
        "\n",
        "- `count` 변수가 2가 될 때까지만 `for` 반복문이 실행되어야 한다.\n",
        "- 다음과 같이 출력되어야 함.\n",
        "\n",
        "        ForPythonFor이 중첩되어 사용됫 횟수: 최소 2회\n",
        "\n",
        "힌트: `break` 명령문 활용"
      ]
    },
    {
      "cell_type": "code",
      "execution_count": 40,
      "metadata": {
        "colab": {
          "base_uri": "https://localhost:8080/"
        },
        "id": "iYzrfHYwPtTZ",
        "outputId": "44845da2-3515-486a-b385-a7d9867afaea"
      },
      "outputs": [
        {
          "output_type": "stream",
          "name": "stdout",
          "text": [
            "ForPythonFor이 중첩되어 사용된 횟수: 최소 2회\n"
          ]
        }
      ],
      "source": [
        "# 코드를 작성한다.\n",
        "# 필요하면 코드셀 또는 텍스트셀을 추가할 수 있습니다.\n",
        "\n",
        "sub=0\n",
        "pos=0\n",
        "\n",
        "for char in string:\n",
        "  pos+=1\n",
        "  if string[pos:pos+len(substring)]==substring:\n",
        "    sub+=1\n",
        "    if sub==2:\n",
        "      break\n",
        "print(f\"{substring}이 중첩되어 사용된 횟수: 최소 {sub}회\")"
      ]
    }
  ],
  "metadata": {
    "colab": {
      "name": "실습답안3.ipynb",
      "provenance": []
    },
    "kernelspec": {
      "display_name": "Python 3 (ipykernel)",
      "language": "python",
      "name": "python3"
    },
    "language_info": {
      "codemirror_mode": {
        "name": "ipython",
        "version": 3
      },
      "file_extension": ".py",
      "mimetype": "text/x-python",
      "name": "python",
      "nbconvert_exporter": "python",
      "pygments_lexer": "ipython3",
      "version": "3.12.2"
    }
  },
  "nbformat": 4,
  "nbformat_minor": 0
}