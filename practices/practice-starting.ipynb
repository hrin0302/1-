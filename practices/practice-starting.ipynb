{
  "cells": [
    {
      "cell_type": "markdown",
      "metadata": {
        "id": "PGtVJ3xRtW71"
      },
      "source": [
        "# (연습) 프로그래밍 맛보기"
      ]
    },
    {
      "cell_type": "markdown",
      "metadata": {
        "id": "MgBCG_zE0A9f"
      },
      "source": [
        "**주의 사항**\n",
        "\n",
        "* 기존에 작성된 코드 셀과 텍스트 셀은 수정하지 않는다.\n",
        "* 필요한 경우 코드 셀 또는 텍스트 셀을 추가해서 사용한다.\n",
        "* 실습 파일을 제출할 때 구글 드라이브의 링크를 이용하여 누구나 공유할 수 있도록 설정한다."
      ]
    },
    {
      "cell_type": "markdown",
      "metadata": {
        "id": "OktX99EJtW73"
      },
      "source": [
        "**문제 1**"
      ]
    },
    {
      "cell_type": "markdown",
      "metadata": {
        "id": "C0EPbA4OtW73"
      },
      "source": [
        "아래 명령문들을 실행해서 오류가 발생하는 경우 오류의 종류와 원인을 설명하고 수정하라.\n",
        "오류가 발생하지 않으면 실행 결과를 설명한다."
      ]
    },
    {
      "cell_type": "markdown",
      "metadata": {
        "id": "uzWoFIwqtW73"
      },
      "source": [
        "(1)"
      ]
    },
    {
      "cell_type": "code",
      "execution_count": null,
      "metadata": {
        "id": "8u73OwzqtW74"
      },
      "outputs": [],
      "source": [
        "print(\"Hello World)"
      ]
    },
    {
      "cell_type": "code",
      "execution_count": 27,
      "metadata": {
        "colab": {
          "base_uri": "https://localhost:8080/"
        },
        "id": "EW4WtLSMtW74",
        "outputId": "cc1df0d3-3759-4016-876b-a526e0ab7589"
      },
      "outputs": [
        {
          "output_type": "stream",
          "name": "stdout",
          "text": [
            "Hello World\n"
          ]
        }
      ],
      "source": [
        "# 코드를 작성한다.\n",
        "print(\"Hello World\")"
      ]
    },
    {
      "cell_type": "markdown",
      "source": [
        "구문오류, 따옴표를 닫지 않았다."
      ],
      "metadata": {
        "id": "yKYa-pYJwCBP"
      }
    },
    {
      "cell_type": "markdown",
      "metadata": {
        "id": "DqW9ckt0tW74"
      },
      "source": [
        "(2)"
      ]
    },
    {
      "cell_type": "code",
      "execution_count": null,
      "metadata": {
        "id": "mJ2MYDaktW74"
      },
      "outputs": [],
      "source": [
        "print(21 8)"
      ]
    },
    {
      "cell_type": "code",
      "execution_count": 28,
      "metadata": {
        "colab": {
          "base_uri": "https://localhost:8080/"
        },
        "id": "wQY2P9e7tW75",
        "outputId": "5eeaf916-bcf5-4576-c8cc-f8a356d1825a"
      },
      "outputs": [
        {
          "output_type": "stream",
          "name": "stdout",
          "text": [
            "21 8\n"
          ]
        }
      ],
      "source": [
        "# 코드를 작성한다.\n",
        "print(21, 8)"
      ]
    },
    {
      "cell_type": "markdown",
      "source": [
        "두 개 이상의 값을 동시에 출력하려면 쉼표를 써야 한다. 구문오류"
      ],
      "metadata": {
        "id": "I35JrQQRwN31"
      }
    },
    {
      "cell_type": "markdown",
      "metadata": {
        "id": "YpUuEpOTtW75"
      },
      "source": [
        "(3)"
      ]
    },
    {
      "cell_type": "code",
      "execution_count": null,
      "metadata": {
        "id": "5ySSz8z6tW75"
      },
      "outputs": [],
      "source": [
        "print(2++2)"
      ]
    },
    {
      "cell_type": "code",
      "execution_count": 29,
      "metadata": {
        "colab": {
          "base_uri": "https://localhost:8080/"
        },
        "id": "UFs6hP4WtW75",
        "outputId": "7d934608-db80-4dfe-8472-a7eff0f02682"
      },
      "outputs": [
        {
          "output_type": "stream",
          "name": "stdout",
          "text": [
            "4\n"
          ]
        }
      ],
      "source": [
        "# 코드를 작성한다.\n",
        "print(2+2)"
      ]
    },
    {
      "cell_type": "markdown",
      "source": [
        "모르겠다."
      ],
      "metadata": {
        "id": "fq3KBbVBzcU6"
      }
    },
    {
      "cell_type": "markdown",
      "metadata": {
        "id": "ZoM9ymyutW75"
      },
      "source": [
        "**문제 2**"
      ]
    },
    {
      "cell_type": "markdown",
      "metadata": {
        "id": "s9Sm30GJtW75"
      },
      "source": [
        "변수 할당 명령문과 관련하여 주의해야할 점들을 다룬다. 아래 명령문들을 실행해서 오류가 발생하는 경우 오류의 종류와 원인을 설명하고 수정한다."
      ]
    },
    {
      "cell_type": "markdown",
      "metadata": {
        "id": "QtG3g0xhtW75"
      },
      "source": [
        "(1)"
      ]
    },
    {
      "cell_type": "code",
      "execution_count": 30,
      "metadata": {
        "id": "FtzSmg4ttW75"
      },
      "outputs": [],
      "source": [
        "x = 2;"
      ]
    },
    {
      "cell_type": "code",
      "execution_count": 31,
      "metadata": {
        "id": "7Ru93B22tW75"
      },
      "outputs": [],
      "source": [
        "# 코드를 작성한다.\n",
        "x=2"
      ]
    },
    {
      "cell_type": "markdown",
      "source": [
        "모르겠다."
      ],
      "metadata": {
        "id": "V3NC4biqziN2"
      }
    },
    {
      "cell_type": "markdown",
      "metadata": {
        "id": "JNBoEfZEtW76"
      },
      "source": [
        "(2)"
      ]
    },
    {
      "cell_type": "code",
      "execution_count": null,
      "metadata": {
        "id": "zbjZhdaGtW76"
      },
      "outputs": [],
      "source": [
        "z = x y"
      ]
    },
    {
      "cell_type": "code",
      "execution_count": 33,
      "metadata": {
        "id": "5yPCQD-rtW76"
      },
      "outputs": [],
      "source": [
        "# 코드를 작성한다.\n",
        "y=3\n",
        "z=x*y"
      ]
    },
    {
      "cell_type": "markdown",
      "source": [
        "변수 xy가 뭔지 선언하지 않았다. 곱하기를 하려던 걸까? 그랬더라도 선언되지 않은 변수 y가 사용됐으므로 이름오류이다."
      ],
      "metadata": {
        "id": "7EA0OpTszrGE"
      }
    },
    {
      "cell_type": "markdown",
      "metadata": {
        "id": "H0MDRR8ttW76"
      },
      "source": [
        "(3)"
      ]
    },
    {
      "cell_type": "code",
      "execution_count": 35,
      "metadata": {
        "colab": {
          "base_uri": "https://localhost:8080/",
          "height": 176
        },
        "id": "j2ZKJiGptW76",
        "outputId": "92a356ab-8a60-4916-e268-5d5afc1f3389"
      },
      "outputs": [
        {
          "output_type": "error",
          "ename": "NameError",
          "evalue": "name 'oddd' is not defined",
          "traceback": [
            "\u001b[0;31m---------------------------------------------------------------------------\u001b[0m",
            "\u001b[0;31mNameError\u001b[0m                                 Traceback (most recent call last)",
            "\u001b[0;32m<ipython-input-35-3bd68f120562>\u001b[0m in \u001b[0;36m<cell line: 0>\u001b[0;34m()\u001b[0m\n\u001b[1;32m      1\u001b[0m \u001b[0meven\u001b[0m \u001b[0;34m=\u001b[0m \u001b[0;36m3\u001b[0m\u001b[0;34m\u001b[0m\u001b[0;34m\u001b[0m\u001b[0m\n\u001b[1;32m      2\u001b[0m \u001b[0modd\u001b[0m \u001b[0;34m=\u001b[0m \u001b[0;36m17\u001b[0m\u001b[0;34m\u001b[0m\u001b[0;34m\u001b[0m\u001b[0m\n\u001b[0;32m----> 3\u001b[0;31m \u001b[0mprint\u001b[0m\u001b[0;34m(\u001b[0m\u001b[0meven\u001b[0m \u001b[0;34m+\u001b[0m \u001b[0moddd\u001b[0m\u001b[0;34m)\u001b[0m\u001b[0;34m\u001b[0m\u001b[0;34m\u001b[0m\u001b[0m\n\u001b[0m",
            "\u001b[0;31mNameError\u001b[0m: name 'oddd' is not defined"
          ]
        }
      ],
      "source": [
        "even = 3\n",
        "odd = 17\n",
        "print(even + oddd)"
      ]
    },
    {
      "cell_type": "code",
      "execution_count": 34,
      "metadata": {
        "colab": {
          "base_uri": "https://localhost:8080/"
        },
        "id": "Ar6rBXoitW76",
        "outputId": "2afa0f7e-9188-40f8-a2a9-ec822306fac7"
      },
      "outputs": [
        {
          "output_type": "stream",
          "name": "stdout",
          "text": [
            "20\n"
          ]
        }
      ],
      "source": [
        "# 코드를 작성한다.\n",
        "even=3\n",
        "odd=17\n",
        "print(even+odd)"
      ]
    },
    {
      "cell_type": "markdown",
      "source": [
        "아마 odd를 oddd로 잘못 친 것 같다. 이름오류."
      ],
      "metadata": {
        "id": "zlfBn-gQ0OTJ"
      }
    },
    {
      "cell_type": "markdown",
      "metadata": {
        "id": "DCYHjkSCtW76"
      },
      "source": [
        "(4)"
      ]
    },
    {
      "cell_type": "code",
      "execution_count": 36,
      "metadata": {
        "colab": {
          "base_uri": "https://localhost:8080/",
          "height": 176
        },
        "id": "m2ngW2J9tW76",
        "outputId": "251d957d-651b-4557-8267-683b657b51cf"
      },
      "outputs": [
        {
          "output_type": "error",
          "ename": "ZeroDivisionError",
          "evalue": "division by zero",
          "traceback": [
            "\u001b[0;31m---------------------------------------------------------------------------\u001b[0m",
            "\u001b[0;31mZeroDivisionError\u001b[0m                         Traceback (most recent call last)",
            "\u001b[0;32m<ipython-input-36-13d8b99cd052>\u001b[0m in \u001b[0;36m<cell line: 0>\u001b[0;34m()\u001b[0m\n\u001b[1;32m      2\u001b[0m \u001b[0mzero\u001b[0m \u001b[0;34m=\u001b[0m \u001b[0;36m0\u001b[0m\u001b[0;34m\u001b[0m\u001b[0;34m\u001b[0m\u001b[0m\n\u001b[1;32m      3\u001b[0m \u001b[0;34m\u001b[0m\u001b[0m\n\u001b[0;32m----> 4\u001b[0;31m \u001b[0mprint\u001b[0m\u001b[0;34m(\u001b[0m\u001b[0mx\u001b[0m\u001b[0;34m/\u001b[0m\u001b[0mzero\u001b[0m\u001b[0;34m)\u001b[0m\u001b[0;34m\u001b[0m\u001b[0;34m\u001b[0m\u001b[0m\n\u001b[0m",
            "\u001b[0;31mZeroDivisionError\u001b[0m: division by zero"
          ]
        }
      ],
      "source": [
        "x = 3\n",
        "zero = 0\n",
        "\n",
        "print(x/zero)"
      ]
    },
    {
      "cell_type": "code",
      "execution_count": 37,
      "metadata": {
        "colab": {
          "base_uri": "https://localhost:8080/"
        },
        "id": "n8iN1lFHtW76",
        "outputId": "03f4d0ab-160a-430b-c995-bde78c5ce98e"
      },
      "outputs": [
        {
          "output_type": "stream",
          "name": "stdout",
          "text": [
            "3.0\n"
          ]
        }
      ],
      "source": [
        "# 코드를 작성한다.\n",
        "x=3\n",
        "zero=0\n",
        "print(x/(zero+1))"
      ]
    },
    {
      "cell_type": "markdown",
      "source": [
        "0나누기 오류? 원래 0으로 나누진 않으니까?"
      ],
      "metadata": {
        "id": "Lbs_PaQl0r2o"
      }
    },
    {
      "cell_type": "markdown",
      "metadata": {
        "id": "dOiP9EB7tW76"
      },
      "source": [
        "**문제 3**"
      ]
    },
    {
      "cell_type": "markdown",
      "metadata": {
        "id": "sLA68TSVtW76"
      },
      "source": [
        "언급된 값을 표현하는 수식을 표현한 다음에 실행하라."
      ]
    },
    {
      "cell_type": "markdown",
      "metadata": {
        "id": "nSIIdLkvtW76"
      },
      "source": [
        "(1) 정수 13에서 정수 19 빼기"
      ]
    },
    {
      "cell_type": "markdown",
      "metadata": {
        "id": "wFZLiqBhtW76"
      },
      "source": [
        "힌트: 뺄셈 연산자를 활용한다."
      ]
    },
    {
      "cell_type": "code",
      "execution_count": 38,
      "metadata": {
        "colab": {
          "base_uri": "https://localhost:8080/"
        },
        "id": "41qOT71ztW76",
        "outputId": "6b0f0465-c9a2-446c-85ae-a10e589ebbf4"
      },
      "outputs": [
        {
          "output_type": "execute_result",
          "data": {
            "text/plain": [
              "-6"
            ]
          },
          "metadata": {},
          "execution_count": 38
        }
      ],
      "source": [
        "# 코드를 작성한다.\n",
        "13-19"
      ]
    },
    {
      "cell_type": "markdown",
      "metadata": {
        "id": "qaMeiPoXtW76"
      },
      "source": [
        "(2) 정수 81을 정수 3으로 나누기"
      ]
    },
    {
      "cell_type": "markdown",
      "metadata": {
        "id": "r-Gl_vcStW76"
      },
      "source": [
        "힌트: 나눗셈 연산자를 활용한다."
      ]
    },
    {
      "cell_type": "code",
      "execution_count": 39,
      "metadata": {
        "colab": {
          "base_uri": "https://localhost:8080/"
        },
        "id": "_HX1LBMltW77",
        "outputId": "e8d51ce3-a5e3-47c3-e899-83bb796bcaf5"
      },
      "outputs": [
        {
          "output_type": "execute_result",
          "data": {
            "text/plain": [
              "27.0"
            ]
          },
          "metadata": {},
          "execution_count": 39
        }
      ],
      "source": [
        "# 코드를 작성한다.\n",
        "81/3"
      ]
    },
    {
      "cell_type": "markdown",
      "metadata": {
        "id": "V5Vmj6oGtW77"
      },
      "source": [
        "(3) 정수 100을 정수 7로 나눈 나머지"
      ]
    },
    {
      "cell_type": "markdown",
      "metadata": {
        "id": "CkHJpvahtW77"
      },
      "source": [
        "힌트: 나머지 연산자를 활용한다."
      ]
    },
    {
      "cell_type": "code",
      "execution_count": 40,
      "metadata": {
        "colab": {
          "base_uri": "https://localhost:8080/"
        },
        "id": "M0-ITalHtW77",
        "outputId": "5b3b41c3-5137-48a5-e240-7879ff3941da"
      },
      "outputs": [
        {
          "output_type": "execute_result",
          "data": {
            "text/plain": [
              "2"
            ]
          },
          "metadata": {},
          "execution_count": 40
        }
      ],
      "source": [
        "# 코드를 작성한다.\n",
        "100%7"
      ]
    },
    {
      "cell_type": "markdown",
      "metadata": {
        "id": "2R_Ac3kXtW77"
      },
      "source": [
        "(4) 정수 7.2의 세제곱"
      ]
    },
    {
      "cell_type": "markdown",
      "metadata": {
        "id": "I_Jvpg8LtW7-"
      },
      "source": [
        "힌트: 거듭제곱 연산자를 활용한다."
      ]
    },
    {
      "cell_type": "code",
      "execution_count": 41,
      "metadata": {
        "colab": {
          "base_uri": "https://localhost:8080/"
        },
        "id": "Y4TaYVIFtW7-",
        "outputId": "cf2a5b11-e6b0-44ba-fcf2-4bd5e6ffa5a4"
      },
      "outputs": [
        {
          "output_type": "execute_result",
          "data": {
            "text/plain": [
              "373.24800000000005"
            ]
          },
          "metadata": {},
          "execution_count": 41
        }
      ],
      "source": [
        "# 코드를 작성한다.\n",
        "7.2**3"
      ]
    },
    {
      "cell_type": "markdown",
      "metadata": {
        "id": "ewcEJGIXtW7-"
      },
      "source": [
        "**문제 4**"
      ]
    },
    {
      "cell_type": "markdown",
      "metadata": {
        "id": "JuEny6mjtW7-"
      },
      "source": [
        "먼저 아래와 같이 두 개의 변수를 선언한다."
      ]
    },
    {
      "cell_type": "code",
      "execution_count": 42,
      "metadata": {
        "id": "miGrsdcttW7-"
      },
      "outputs": [],
      "source": [
        "width = 17\n",
        "height = 12.0"
      ]
    },
    {
      "cell_type": "markdown",
      "metadata": {
        "id": "K59VgIA-tW7-"
      },
      "source": [
        "언급된 값을 표현하는 수식을 두 변수를 이용하여 표현한 다음에 실행하여라."
      ]
    },
    {
      "cell_type": "markdown",
      "metadata": {
        "id": "1A-Nu0dLtW7-"
      },
      "source": [
        "(1) width를 2로 나눗 몫"
      ]
    },
    {
      "cell_type": "code",
      "execution_count": 43,
      "metadata": {
        "colab": {
          "base_uri": "https://localhost:8080/"
        },
        "id": "8rN3CXlZtW7-",
        "outputId": "a7e9aec2-8396-4af1-ab5d-6fe29f226612"
      },
      "outputs": [
        {
          "output_type": "execute_result",
          "data": {
            "text/plain": [
              "8"
            ]
          },
          "metadata": {},
          "execution_count": 43
        }
      ],
      "source": [
        "# 코드를 작성한다.\n",
        "width//2"
      ]
    },
    {
      "cell_type": "markdown",
      "metadata": {
        "id": "nuHhgGgqtW7-"
      },
      "source": [
        "(2) width 나누기 2"
      ]
    },
    {
      "cell_type": "code",
      "execution_count": 44,
      "metadata": {
        "colab": {
          "base_uri": "https://localhost:8080/"
        },
        "id": "sYQNTMk6tW7_",
        "outputId": "b2dea3f0-deb0-459d-afaa-ef2e157b6453"
      },
      "outputs": [
        {
          "output_type": "execute_result",
          "data": {
            "text/plain": [
              "8.5"
            ]
          },
          "metadata": {},
          "execution_count": 44
        }
      ],
      "source": [
        "# 코드를 작성한다.\n",
        "width/2"
      ]
    },
    {
      "cell_type": "markdown",
      "metadata": {
        "id": "1fxy3gQ2tW7_"
      },
      "source": [
        "(3) width 나누기 2.0"
      ]
    },
    {
      "cell_type": "code",
      "execution_count": 45,
      "metadata": {
        "colab": {
          "base_uri": "https://localhost:8080/"
        },
        "id": "Dt09CXhutW7_",
        "outputId": "11c66ee0-1c29-477e-c579-0b7af9a9e700"
      },
      "outputs": [
        {
          "output_type": "execute_result",
          "data": {
            "text/plain": [
              "8.5"
            ]
          },
          "metadata": {},
          "execution_count": 45
        }
      ],
      "source": [
        "# 코드를 작성한다.\n",
        "width/2.0"
      ]
    },
    {
      "cell_type": "markdown",
      "metadata": {
        "id": "pc9_yFyjtW7_"
      },
      "source": [
        "(4) height 나누기 3"
      ]
    },
    {
      "cell_type": "code",
      "execution_count": 46,
      "metadata": {
        "colab": {
          "base_uri": "https://localhost:8080/"
        },
        "id": "7Hz-jHhrtW7_",
        "outputId": "c7c0a5c9-0284-4d81-9d5b-8c81ddfc5384"
      },
      "outputs": [
        {
          "output_type": "execute_result",
          "data": {
            "text/plain": [
              "4.0"
            ]
          },
          "metadata": {},
          "execution_count": 46
        }
      ],
      "source": [
        "# 코드를 작성한다.\n",
        "height/3"
      ]
    },
    {
      "cell_type": "markdown",
      "metadata": {
        "id": "UWWUcKhetW7_"
      },
      "source": [
        "(5) 2 곱하기 5에 1 더하기"
      ]
    },
    {
      "cell_type": "code",
      "execution_count": 47,
      "metadata": {
        "colab": {
          "base_uri": "https://localhost:8080/"
        },
        "id": "SsybLYN5tW7_",
        "outputId": "5eeb279f-1f27-43b9-f7dd-273a1ed48a4b"
      },
      "outputs": [
        {
          "output_type": "execute_result",
          "data": {
            "text/plain": [
              "11"
            ]
          },
          "metadata": {},
          "execution_count": 47
        }
      ],
      "source": [
        "# 코드를 작성한다.\n",
        "2*5+1"
      ]
    },
    {
      "cell_type": "markdown",
      "metadata": {
        "id": "1-pepIi5tW7_"
      },
      "source": [
        "(6) 2 곱하기 5에 1.0 더하기"
      ]
    },
    {
      "cell_type": "code",
      "execution_count": 48,
      "metadata": {
        "colab": {
          "base_uri": "https://localhost:8080/"
        },
        "id": "9NsKFYp0tW7_",
        "outputId": "78de87e2-fb27-46dd-fb22-8a524beabc75"
      },
      "outputs": [
        {
          "output_type": "execute_result",
          "data": {
            "text/plain": [
              "11.0"
            ]
          },
          "metadata": {},
          "execution_count": 48
        }
      ],
      "source": [
        "# 코드를 작성한다.\n",
        "2*5+1.0"
      ]
    },
    {
      "cell_type": "markdown",
      "metadata": {
        "id": "UJEEzc3LtW7_"
      },
      "source": [
        "**문제 5**"
      ]
    },
    {
      "cell_type": "markdown",
      "metadata": {
        "id": "DXTmmr4vtW7_"
      },
      "source": [
        "오전 6시 52분에 집을 떠나서, 가볍게 (km당 8분 15초 소요) 1km를 뛰고,\n",
        "이어서 좀 빠르게 (km당 7분 12초 소요) 3km를 뛴 후, 다시 가볍게 1km를 마저 달려 집으로 돌아오면\n",
        "집에 도착하는 시간을 계산하여 아래처럼 출력하는 코드를 작성하라.\n",
        "\n",
        "    집에 도착 시간: 7 시 30 분 6 초\n",
        "\n",
        "힌트: 정수 나눗셈의 몫과 나머지 연산자 활용"
      ]
    },
    {
      "cell_type": "code",
      "execution_count": 55,
      "metadata": {
        "colab": {
          "base_uri": "https://localhost:8080/"
        },
        "id": "69soycLxtW7_",
        "outputId": "e8b40df6-ed96-417b-a166-cb31b7f5bbaa"
      },
      "outputs": [
        {
          "output_type": "stream",
          "name": "stdout",
          "text": [
            "집에 도착 시간: 7 시 30 분 6 초\n"
          ]
        }
      ],
      "source": [
        "# 코드를 작성한다.\n",
        "x=6\n",
        "y=52\n",
        "z=0\n",
        "z=z+(1*15)+(3*12)+(1*15)\n",
        "y=y+(1*8)+(3*7)+(1*8)+z//60\n",
        "x=x+y//60\n",
        "z=z%60\n",
        "y=y%60\n",
        "print(\"집에 도착 시간:\", x, \"시\", y, \"분\", z, \"초\")"
      ]
    }
  ],
  "metadata": {
    "colab": {
      "name": "practice-starting.ipynb",
      "provenance": []
    },
    "kernelspec": {
      "display_name": "Python 3 (ipykernel)",
      "language": "python",
      "name": "python3"
    },
    "language_info": {
      "codemirror_mode": {
        "name": "ipython",
        "version": 3
      },
      "file_extension": ".py",
      "mimetype": "text/x-python",
      "name": "python",
      "nbconvert_exporter": "python",
      "pygments_lexer": "ipython3",
      "version": "3.12.7"
    }
  },
  "nbformat": 4,
  "nbformat_minor": 0
}