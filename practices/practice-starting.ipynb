{
  "cells": [
    {
      "cell_type": "markdown",
      "metadata": {
        "id": "PGtVJ3xRtW71"
      },
      "source": [
        "# (연습) 프로그래밍 맛보기"
      ]
    },
    {
      "cell_type": "markdown",
      "metadata": {
        "id": "MgBCG_zE0A9f"
      },
      "source": [
        "**주의 사항**\n",
        "\n",
        "* 기존에 작성된 코드 셀과 텍스트 셀은 수정하지 않는다.\n",
        "* 필요한 경우 코드 셀 또는 텍스트 셀을 추가해서 사용한다.\n",
        "* 실습 파일을 제출할 때 구글 드라이브의 링크를 이용하여 누구나 공유할 수 있도록 설정한다."
      ]
    },
    {
      "cell_type": "markdown",
      "metadata": {
        "id": "OktX99EJtW73"
      },
      "source": [
        "**문제 1**"
      ]
    },
    {
      "cell_type": "markdown",
      "metadata": {
        "id": "C0EPbA4OtW73"
      },
      "source": [
        "아래 명령문들을 실행해서 오류가 발생하는 경우 오류의 종류와 원인을 설명하고 수정하라.\n",
        "오류가 발생하지 않으면 실행 결과를 설명한다."
      ]
    },
    {
      "cell_type": "markdown",
      "metadata": {
        "id": "uzWoFIwqtW73"
      },
      "source": [
        "(1)"
      ]
    },
    {
      "cell_type": "code",
      "execution_count": null,
      "metadata": {
        "id": "8u73OwzqtW74"
      },
      "outputs": [],
      "source": [
        "print(\"Hello World)"
      ]
    },
    {
      "cell_type": "code",
      "execution_count": 27,
      "metadata": {
        "id": "EW4WtLSMtW74",
        "outputId": "cc1df0d3-3759-4016-876b-a526e0ab7589",
        "colab": {
          "base_uri": "https://localhost:8080/"
        }
      },
      "outputs": [
        {
          "output_type": "stream",
          "name": "stdout",
          "text": [
            "Hello World\n"
          ]
        }
      ],
      "source": [
        "# 코드를 작성한다.\n",
        "print(\"Hello World\")"
      ]
    },
    {
      "cell_type": "markdown",
      "source": [
        "구문오류, 따옴표를 닫지 않았다."
      ],
      "metadata": {
        "id": "yKYa-pYJwCBP"
      }
    },
    {
      "cell_type": "markdown",
      "metadata": {
        "id": "DqW9ckt0tW74"
      },
      "source": [
        "(2)"
      ]
    },
    {
      "cell_type": "code",
      "execution_count": null,
      "metadata": {
        "id": "mJ2MYDaktW74"
      },
      "outputs": [],
      "source": [
        "print(21 8)"
      ]
    },
    {
      "cell_type": "code",
      "execution_count": 28,
      "metadata": {
        "id": "wQY2P9e7tW75",
        "outputId": "5eeaf916-bcf5-4576-c8cc-f8a356d1825a",
        "colab": {
          "base_uri": "https://localhost:8080/"
        }
      },
      "outputs": [
        {
          "output_type": "stream",
          "name": "stdout",
          "text": [
            "21 8\n"
          ]
        }
      ],
      "source": [
        "# 코드를 작성한다.\n",
        "print(21, 8)"
      ]
    },
    {
      "cell_type": "markdown",
      "source": [],
      "metadata": {
        "id": "I35JrQQRwN31"
      }
    },
    {
      "cell_type": "markdown",
      "metadata": {
        "id": "YpUuEpOTtW75"
      },
      "source": [
        "(3)"
      ]
    },
    {
      "cell_type": "code",
      "execution_count": null,
      "metadata": {
        "id": "5ySSz8z6tW75"
      },
      "outputs": [],
      "source": [
        "print(2++2)"
      ]
    },
    {
      "cell_type": "code",
      "execution_count": null,
      "metadata": {
        "id": "UFs6hP4WtW75"
      },
      "outputs": [],
      "source": [
        "# 코드를 작성한다.\n"
      ]
    },
    {
      "cell_type": "markdown",
      "metadata": {
        "id": "ZoM9ymyutW75"
      },
      "source": [
        "**문제 2**"
      ]
    },
    {
      "cell_type": "markdown",
      "metadata": {
        "id": "s9Sm30GJtW75"
      },
      "source": [
        "변수 할당 명령문과 관련하여 주의해야할 점들을 다룬다. 아래 명령문들을 실행해서 오류가 발생하는 경우 오류의 종류와 원인을 설명하고 수정한다."
      ]
    },
    {
      "cell_type": "markdown",
      "metadata": {
        "id": "QtG3g0xhtW75"
      },
      "source": [
        "(1)"
      ]
    },
    {
      "cell_type": "code",
      "execution_count": null,
      "metadata": {
        "id": "FtzSmg4ttW75"
      },
      "outputs": [],
      "source": [
        "x = 2;"
      ]
    },
    {
      "cell_type": "code",
      "execution_count": null,
      "metadata": {
        "id": "7Ru93B22tW75"
      },
      "outputs": [],
      "source": [
        "# 코드를 작성한다.\n"
      ]
    },
    {
      "cell_type": "markdown",
      "metadata": {
        "id": "JNBoEfZEtW76"
      },
      "source": [
        "(2)"
      ]
    },
    {
      "cell_type": "code",
      "execution_count": null,
      "metadata": {
        "id": "zbjZhdaGtW76"
      },
      "outputs": [],
      "source": [
        "z = x y"
      ]
    },
    {
      "cell_type": "code",
      "execution_count": null,
      "metadata": {
        "id": "5yPCQD-rtW76"
      },
      "outputs": [],
      "source": [
        "# 코드를 작성한다.\n"
      ]
    },
    {
      "cell_type": "markdown",
      "metadata": {
        "id": "H0MDRR8ttW76"
      },
      "source": [
        "(3)"
      ]
    },
    {
      "cell_type": "code",
      "execution_count": null,
      "metadata": {
        "id": "j2ZKJiGptW76"
      },
      "outputs": [],
      "source": [
        "even = 3\n",
        "odd = 17\n",
        "print(even + oddd)"
      ]
    },
    {
      "cell_type": "code",
      "execution_count": null,
      "metadata": {
        "id": "Ar6rBXoitW76"
      },
      "outputs": [],
      "source": [
        "# 코드를 작성한다.\n"
      ]
    },
    {
      "cell_type": "markdown",
      "metadata": {
        "id": "DCYHjkSCtW76"
      },
      "source": [
        "(4)"
      ]
    },
    {
      "cell_type": "code",
      "execution_count": null,
      "metadata": {
        "id": "m2ngW2J9tW76"
      },
      "outputs": [],
      "source": [
        "x = 3\n",
        "zero = 0\n",
        "\n",
        "print(x/zero)"
      ]
    },
    {
      "cell_type": "code",
      "execution_count": null,
      "metadata": {
        "id": "n8iN1lFHtW76"
      },
      "outputs": [],
      "source": [
        "# 코드를 작성한다.\n"
      ]
    },
    {
      "cell_type": "markdown",
      "metadata": {
        "id": "dOiP9EB7tW76"
      },
      "source": [
        "**문제 3**"
      ]
    },
    {
      "cell_type": "markdown",
      "metadata": {
        "id": "sLA68TSVtW76"
      },
      "source": [
        "언급된 값을 표현하는 수식을 표현한 다음에 실행하라."
      ]
    },
    {
      "cell_type": "markdown",
      "metadata": {
        "id": "nSIIdLkvtW76"
      },
      "source": [
        "(1) 정수 13에서 정수 19 빼기"
      ]
    },
    {
      "cell_type": "markdown",
      "metadata": {
        "id": "wFZLiqBhtW76"
      },
      "source": [
        "힌트: 뺄셈 연산자를 활용한다."
      ]
    },
    {
      "cell_type": "code",
      "execution_count": null,
      "metadata": {
        "id": "41qOT71ztW76"
      },
      "outputs": [],
      "source": [
        "# 코드를 작성한다.\n"
      ]
    },
    {
      "cell_type": "markdown",
      "metadata": {
        "id": "qaMeiPoXtW76"
      },
      "source": [
        "(2) 정수 81을 정수 3으로 나누기"
      ]
    },
    {
      "cell_type": "markdown",
      "metadata": {
        "id": "r-Gl_vcStW76"
      },
      "source": [
        "힌트: 나눗셈 연산자를 활용한다."
      ]
    },
    {
      "cell_type": "code",
      "execution_count": null,
      "metadata": {
        "id": "_HX1LBMltW77"
      },
      "outputs": [],
      "source": [
        "# 코드를 작성한다.\n"
      ]
    },
    {
      "cell_type": "markdown",
      "metadata": {
        "id": "V5Vmj6oGtW77"
      },
      "source": [
        "(3) 정수 100을 정수 7로 나눈 나머지"
      ]
    },
    {
      "cell_type": "markdown",
      "metadata": {
        "id": "CkHJpvahtW77"
      },
      "source": [
        "힌트: 나머지 연산자를 활용한다."
      ]
    },
    {
      "cell_type": "code",
      "execution_count": null,
      "metadata": {
        "id": "M0-ITalHtW77"
      },
      "outputs": [],
      "source": [
        "# 코드를 작성한다.\n"
      ]
    },
    {
      "cell_type": "markdown",
      "metadata": {
        "id": "2R_Ac3kXtW77"
      },
      "source": [
        "(4) 정수 7.2의 세제곱"
      ]
    },
    {
      "cell_type": "markdown",
      "metadata": {
        "id": "I_Jvpg8LtW7-"
      },
      "source": [
        "힌트: 거듭제곱 연산자를 활용한다."
      ]
    },
    {
      "cell_type": "code",
      "execution_count": null,
      "metadata": {
        "id": "Y4TaYVIFtW7-"
      },
      "outputs": [],
      "source": [
        "# 코드를 작성한다.\n"
      ]
    },
    {
      "cell_type": "markdown",
      "metadata": {
        "id": "ewcEJGIXtW7-"
      },
      "source": [
        "**문제 4**"
      ]
    },
    {
      "cell_type": "markdown",
      "metadata": {
        "id": "JuEny6mjtW7-"
      },
      "source": [
        "먼저 아래와 같이 두 개의 변수를 선언한다."
      ]
    },
    {
      "cell_type": "code",
      "execution_count": null,
      "metadata": {
        "id": "miGrsdcttW7-"
      },
      "outputs": [],
      "source": [
        "width = 17\n",
        "height = 12.0"
      ]
    },
    {
      "cell_type": "markdown",
      "metadata": {
        "id": "K59VgIA-tW7-"
      },
      "source": [
        "언급된 값을 표현하는 수식을 두 변수를 이용하여 표현한 다음에 실행하여라."
      ]
    },
    {
      "cell_type": "markdown",
      "metadata": {
        "id": "1A-Nu0dLtW7-"
      },
      "source": [
        "(1) width를 2로 나눗 몫"
      ]
    },
    {
      "cell_type": "code",
      "execution_count": null,
      "metadata": {
        "id": "8rN3CXlZtW7-"
      },
      "outputs": [],
      "source": [
        "# 코드를 작성한다.\n"
      ]
    },
    {
      "cell_type": "markdown",
      "metadata": {
        "id": "nuHhgGgqtW7-"
      },
      "source": [
        "(2) width 나누기 2"
      ]
    },
    {
      "cell_type": "code",
      "execution_count": null,
      "metadata": {
        "id": "sYQNTMk6tW7_"
      },
      "outputs": [],
      "source": [
        "# 코드를 작성한다.\n"
      ]
    },
    {
      "cell_type": "markdown",
      "metadata": {
        "id": "1fxy3gQ2tW7_"
      },
      "source": [
        "(3) width 나누기 2.0"
      ]
    },
    {
      "cell_type": "code",
      "execution_count": null,
      "metadata": {
        "id": "Dt09CXhutW7_"
      },
      "outputs": [],
      "source": [
        "# 코드를 작성한다.\n"
      ]
    },
    {
      "cell_type": "markdown",
      "metadata": {
        "id": "pc9_yFyjtW7_"
      },
      "source": [
        "(4) height 나누기 3"
      ]
    },
    {
      "cell_type": "code",
      "execution_count": null,
      "metadata": {
        "id": "7Hz-jHhrtW7_"
      },
      "outputs": [],
      "source": [
        "# 코드를 작성한다.\n"
      ]
    },
    {
      "cell_type": "markdown",
      "metadata": {
        "id": "UWWUcKhetW7_"
      },
      "source": [
        "(5) 2 곱하기 5에 1 더하기"
      ]
    },
    {
      "cell_type": "code",
      "execution_count": null,
      "metadata": {
        "id": "SsybLYN5tW7_"
      },
      "outputs": [],
      "source": [
        "# 코드를 작성한다.\n"
      ]
    },
    {
      "cell_type": "markdown",
      "metadata": {
        "id": "1-pepIi5tW7_"
      },
      "source": [
        "(6) 2 곱하기 5에 1.0 더하기"
      ]
    },
    {
      "cell_type": "code",
      "execution_count": null,
      "metadata": {
        "id": "9NsKFYp0tW7_"
      },
      "outputs": [],
      "source": [
        "# 코드를 작성한다.\n"
      ]
    },
    {
      "cell_type": "markdown",
      "metadata": {
        "id": "UJEEzc3LtW7_"
      },
      "source": [
        "**문제 5**"
      ]
    },
    {
      "cell_type": "markdown",
      "metadata": {
        "id": "DXTmmr4vtW7_"
      },
      "source": [
        "오전 6시 52분에 집을 떠나서, 가볍게 (km당 8분 15초 소요) 1km를 뛰고,\n",
        "이어서 좀 빠르게 (km당 7분 12초 소요) 3km를 뛴 후, 다시 가볍게 1km를 마저 달려 집으로 돌아오면\n",
        "집에 도착하는 시간을 계산하여 아래처럼 출력하는 코드를 작성하라.\n",
        "\n",
        "    집에 도착 시간: 7 시 30 분 6 초\n",
        "\n",
        "힌트: 정수 나눗셈의 몫과 나머지 연산자 활용"
      ]
    },
    {
      "cell_type": "code",
      "execution_count": null,
      "metadata": {
        "id": "69soycLxtW7_"
      },
      "outputs": [],
      "source": [
        "# 코드를 작성한다.\n"
      ]
    }
  ],
  "metadata": {
    "colab": {
      "name": "practice-starting.ipynb",
      "provenance": []
    },
    "kernelspec": {
      "display_name": "Python 3 (ipykernel)",
      "language": "python",
      "name": "python3"
    },
    "language_info": {
      "codemirror_mode": {
        "name": "ipython",
        "version": 3
      },
      "file_extension": ".py",
      "mimetype": "text/x-python",
      "name": "python",
      "nbconvert_exporter": "python",
      "pygments_lexer": "ipython3",
      "version": "3.12.7"
    }
  },
  "nbformat": 4,
  "nbformat_minor": 0
}