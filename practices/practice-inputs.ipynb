{
  "cells": [
    {
      "cell_type": "markdown",
      "id": "2d03d247-e2d3-4afe-ab5e-83dc989ed62d",
      "metadata": {
        "id": "2d03d247-e2d3-4afe-ab5e-83dc989ed62d"
      },
      "source": [
        "# (연습) 사용자 입력"
      ]
    },
    {
      "cell_type": "markdown",
      "id": "01c8fab8",
      "metadata": {
        "id": "01c8fab8"
      },
      "source": [
        "**주의 사항**\n",
        "\n",
        "* 기존에 작성된 코드셀/텍스트셀은 수정하지 않는다.\n",
        "* 필요한 경우 코드셀 또는 텍스트셀을 추가할 수 있다."
      ]
    },
    {
      "cell_type": "markdown",
      "id": "2d660583",
      "metadata": {
        "id": "2d660583"
      },
      "source": [
        "**문제 1**"
      ]
    },
    {
      "cell_type": "markdown",
      "id": "5947bed1",
      "metadata": {
        "id": "5947bed1"
      },
      "source": [
        "사용자로부터 입력받은 정수에 대한 3의 배수 여부를 판정하는 코드를 작성하라.\n",
        "단, 3의 배수인 경우와 아닌 경우 각각 다르게 아래 형식으로 출력되도록 한다.\n",
        "\n",
        "    24 은(는) 3의 배수다.\n",
        "    \n",
        "또는\n",
        "\n",
        "    25 은(는) 3으로 나누면 나머지가 1 이다."
      ]
    },
    {
      "cell_type": "code",
      "execution_count": 2,
      "id": "8cda961c",
      "metadata": {
        "colab": {
          "base_uri": "https://localhost:8080/"
        },
        "id": "8cda961c",
        "outputId": "12cb57ae-4551-42e7-faaa-cddaec0035b7"
      },
      "outputs": [
        {
          "output_type": "stream",
          "name": "stdout",
          "text": [
            "정수 하나를 입력하세요: 26\n",
            "26 은(는) 3으로 나누면 나머지가 2 이다.\n"
          ]
        }
      ],
      "source": [
        "# 코드를 작성한다.\n",
        "# 필요하면 코드셀 또는 텍스트셀을 추가할 수 있습니다.\n",
        "\n",
        "user_input=int(input(\"정수 하나를 입력하세요: \"))\n",
        "\n",
        "if user_input%3==0:\n",
        "  print(user_input, \"은(는) 3의 배수다.\")\n",
        "else:\n",
        "  print(user_input, \"은(는) 3으로 나누면 나머지가\", user_input%3, \"이다.\")"
      ]
    },
    {
      "cell_type": "markdown",
      "id": "fdd24fd8",
      "metadata": {
        "id": "fdd24fd8"
      },
      "source": [
        "**문제 2**"
      ]
    },
    {
      "cell_type": "markdown",
      "id": "0ec47e07",
      "metadata": {
        "id": "0ec47e07"
      },
      "source": [
        "입력받은 두 부동소수점의 나눗셈을 아래 지정된 형식으로 출력하는 코드를 작성하라.\n",
        "입력된 값은 각각 변수 `a`와 `b`에 저장한다.\n",
        "예를 들어 3.3과 5.8이 입력되면 아래처럼 화면에 출력한다.\n",
        "또한 계산 결과는 소수점 이하 셋째 자리에서 반올림한다.\n",
        "\n",
        "    3.3 / 5.8 = 0.57"
      ]
    },
    {
      "cell_type": "code",
      "execution_count": 4,
      "id": "b3d4ec13",
      "metadata": {
        "colab": {
          "base_uri": "https://localhost:8080/"
        },
        "id": "b3d4ec13",
        "outputId": "684bad22-b0e7-4e50-bfaf-5547b3b89c36"
      },
      "outputs": [
        {
          "output_type": "stream",
          "name": "stdout",
          "text": [
            "첫 번째 소수를 입력하세요: 3.3\n",
            "두 번째 소수를 입력하세요: 5.8\n",
            "3.3 / 5.8 = 0.57\n"
          ]
        }
      ],
      "source": [
        "# 코드를 작성한다.\n",
        "# 필요하면 코드셀 또는 텍스트셀을 추가할 수 있습니다.\n",
        "\n",
        "a=float(input(\"첫 번째 소수를 입력하세요: \"))\n",
        "b=float(input(\"두 번째 소수를 입력하세요: \"))\n",
        "\n",
        "print(a, \"/\", b, \"=\", round(a/b, 2))"
      ]
    },
    {
      "cell_type": "markdown",
      "id": "f7e37b7b",
      "metadata": {
        "id": "f7e37b7b"
      },
      "source": [
        "**문제 3**"
      ]
    },
    {
      "cell_type": "markdown",
      "id": "045f2c80",
      "metadata": {
        "id": "045f2c80"
      },
      "source": [
        "두 개의 부동소수점`x`와 `y`를 입력받아 두 수의\n",
        "조화 평균을 아래 형식으로 출력하는 코드를 작성하라.\n",
        "\n",
        "    2.4 와 5.7 의 조화평균: 3.38\n",
        "\n",
        "단, `x`와 `y`의 조화평균은 다음과 같이 계산하며, 소수점 이하 셋째 자리에서 반올림한다.\n",
        "\n",
        "    2 / (1/x + 1/y)"
      ]
    },
    {
      "cell_type": "code",
      "execution_count": 7,
      "id": "3045af10",
      "metadata": {
        "colab": {
          "base_uri": "https://localhost:8080/"
        },
        "id": "3045af10",
        "outputId": "e4465f9d-c48c-424a-b6f8-a027c0410050"
      },
      "outputs": [
        {
          "output_type": "stream",
          "name": "stdout",
          "text": [
            "첫 번째 소수를 입력하세요: 2.4\n",
            "두 번째 소수를 입력하세요: 5.7\n",
            "2.4 와 5.7 의 조화평균: 3.38\n"
          ]
        }
      ],
      "source": [
        "# 코드를 작성한다.\n",
        "# 필요하면 코드셀 또는 텍스트셀을 추가할 수 있습니다.\n",
        "\n",
        "x=float(input(\"첫 번째 소수를 입력하세요: \"))\n",
        "y=float(input(\"두 번째 소수를 입력하세요: \"))\n",
        "\n",
        "avg=2/(1/x+1/y)\n",
        "\n",
        "print(x, \"와\", y, \"의 조화평균:\", round(avg, 2))"
      ]
    },
    {
      "cell_type": "markdown",
      "id": "e4805692",
      "metadata": {
        "id": "e4805692"
      },
      "source": [
        "**문제 4**"
      ]
    },
    {
      "cell_type": "markdown",
      "id": "f4a72767",
      "metadata": {
        "id": "f4a72767"
      },
      "source": [
        "대기실에 `N` 개의 의자가 일렬로 놓여 있다.\n",
        "`N`은 사용자 입력을 통해 지정된 양의 정수다.\n",
        "\n",
        "어느 두 사람도 이웃하여 앉지 않을 때, 앉을 수 있는 최대 인원이 앉는 방식과\n",
        "최소 인원이 앉는 방식을 문자열로 출력하는 코드를 작성한다.\n",
        "단, 자리를 채운 후에는 더 이상 어느 누구도 자리에 앉을 수 없어야 한다.\n",
        "\n",
        "예를 들어 의자가 8개인 경우 아래 방식으로 앉는 것은 허용되지 않는다.\n",
        "아래 표에서 `O`은 채워진 자리를, `X`는 빈자리를 가리킨다.\n",
        "\n",
        "| 불가능 방식 | 이유 |\n",
        "| :---: | :--- |\n",
        "| `XXOXOXOX` | 왼쪽 끝에 한 명 더 앉을 수 있음 |\n",
        "| `XOXXOXXX` | 오른쪽 끝에 한 명 더 앉을 수 있음|\n",
        "\n",
        "의자가 8 개일 때 의자에 앉을 수 있는 최소 인원과 최대 인원은 다음과 같다.\n",
        "\n",
        "| 인원 | 앉는 방식 |\n",
        "| :---: | :---: |\n",
        "| 최소 3명 | `XOXXOXXO` |\n",
        "| 최대 4명 | `OXOXOXOX` |\n",
        "\n",
        "힌트: 2배수와 3배수 여부에 따른 `if ... else ...` 조건문 활용"
      ]
    },
    {
      "cell_type": "code",
      "execution_count": null,
      "id": "accea396",
      "metadata": {
        "id": "accea396"
      },
      "outputs": [],
      "source": [
        "# 코드를 작성한다.\n",
        "# 필요하면 코드셀 또는 텍스트셀을 추가할 수 있습니다.\n",
        "\n",
        "N=int(input(\"정수 하나를 입력하세요: \"))\n",
        "\n",
        "print(\"최소\")"
      ]
    },
    {
      "cell_type": "code",
      "source": [
        "def get_seating_arrangement(N):\n",
        "    # 최대 인원이 앉는 방식 (O를 최대한 배치)\n",
        "    max_seating = [\"O\" if i % 2 == 0 else \"X\" for i in range(N)]\n",
        "\n",
        "    # 최소 인원이 앉는 방식 (가능한 한 많은 간격을 두고 배치)\n",
        "    min_seating = [\"X\"] * N\n",
        "    for i in range(0, N, 3):  # 3칸 간격으로 배치\n",
        "        min_seating[i] = \"O\"\n",
        "\n",
        "    min_seating_str = \"\".join(min_seating)\n",
        "\n",
        "    # N이 3의 배수일 때, 마지막 'X'를 앞으로 이동\n",
        "    if N % 3 == 0:\n",
        "        last_x_index = min_seating_str.rfind(\"X\")\n",
        "        if last_x_index != -1:\n",
        "            min_seating_str = \"X\" + min_seating_str[:last_x_index] + min_seating_str[last_x_index + 1:]\n",
        "\n",
        "    return min_seating_str, \"\".join(max_seating)\n",
        "\n",
        "# 사용자 입력 받기\n",
        "N = int(input(\"의자의 개수를 입력하세요: \"))\n",
        "if N <= 0:\n",
        "    print(\"양의 정수를 입력하세요.\")\n",
        "else:\n",
        "    min_seating, max_seating = get_seating_arrangement(N)\n",
        "    print(f\"최소 인원 배치: {min_seating}\")\n",
        "    print(f\"최대 인원 배치: {max_seating}\")\n"
      ],
      "metadata": {
        "id": "SYs5niMKWKCQ",
        "outputId": "2ad9f0ae-3ff7-4f00-980d-d582d8bbc68f",
        "colab": {
          "base_uri": "https://localhost:8080/"
        }
      },
      "id": "SYs5niMKWKCQ",
      "execution_count": 10,
      "outputs": [
        {
          "output_type": "stream",
          "name": "stdout",
          "text": [
            "의자의 개수를 입력하세요: 9\n",
            "최소 인원 배치: XOXXOXXOX\n",
            "최대 인원 배치: OXOXOXOXO\n"
          ]
        }
      ]
    }
  ],
  "metadata": {
    "kernelspec": {
      "display_name": "Python 3 (ipykernel)",
      "language": "python",
      "name": "python3"
    },
    "language_info": {
      "codemirror_mode": {
        "name": "ipython",
        "version": 3
      },
      "file_extension": ".py",
      "mimetype": "text/x-python",
      "name": "python",
      "nbconvert_exporter": "python",
      "pygments_lexer": "ipython3",
      "version": "3.12.7"
    },
    "toc-autonumbering": true,
    "toc-showcode": false,
    "toc-showmarkdowntxt": false,
    "colab": {
      "provenance": []
    }
  },
  "nbformat": 4,
  "nbformat_minor": 5
}